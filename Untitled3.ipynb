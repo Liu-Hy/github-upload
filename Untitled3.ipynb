{
 "metadata": {
  "language_info": {
   "codemirror_mode": {
    "name": "ipython",
    "version": 3
   },
   "file_extension": ".py",
   "mimetype": "text/x-python",
   "name": "python",
   "nbconvert_exporter": "python",
   "pygments_lexer": "ipython3",
   "version": "3.8.5-final"
  },
  "orig_nbformat": 2,
  "kernelspec": {
   "name": "python3",
   "display_name": "Python 3.8.5 64-bit ('d2l': conda)",
   "metadata": {
    "interpreter": {
     "hash": "bae6546355a940aef21a1ec3c358906dbfda972b422ba2c211a5d8f2f4cba271"
    }
   }
  }
 },
 "nbformat": 4,
 "nbformat_minor": 2,
 "cells": [
  {
   "cell_type": "code",
   "execution_count": 1,
   "metadata": {},
   "outputs": [
    {
     "output_type": "execute_result",
     "data": {
      "text/plain": [
       "'3'"
      ]
     },
     "metadata": {},
     "execution_count": 1
    }
   ],
   "source": [
    "d = 3\n",
    "str(d)"
   ]
  },
  {
   "cell_type": "code",
   "execution_count": 5,
   "metadata": {},
   "outputs": [
    {
     "output_type": "error",
     "ename": "NameError",
     "evalue": "name 'Nan' is not defined",
     "traceback": [
      "\u001b[1;31m---------------------------------------------------------------------------\u001b[0m",
      "\u001b[1;31mNameError\u001b[0m                                 Traceback (most recent call last)",
      "\u001b[1;32m<ipython-input-5-7422bf1ecd8d>\u001b[0m in \u001b[0;36m<module>\u001b[1;34m\u001b[0m\n\u001b[1;32m----> 1\u001b[1;33m \u001b[0ml\u001b[0m\u001b[1;33m=\u001b[0m\u001b[1;33m[\u001b[0m\u001b[1;33m[\u001b[0m\u001b[0mNan\u001b[0m\u001b[1;33m,\u001b[0m\u001b[1;34m'0'\u001b[0m\u001b[1;33m]\u001b[0m\u001b[1;33m,\u001b[0m\u001b[1;33m[\u001b[0m\u001b[1;34m'0'\u001b[0m\u001b[1;33m,\u001b[0m\u001b[1;34m'0'\u001b[0m\u001b[1;33m]\u001b[0m\u001b[1;33m]\u001b[0m\u001b[1;33m\u001b[0m\u001b[1;33m\u001b[0m\u001b[0m\n\u001b[0m\u001b[0;32m      2\u001b[0m \u001b[0ml\u001b[0m\u001b[1;33m\u001b[0m\u001b[1;33m\u001b[0m\u001b[0m\n",
      "\u001b[1;31mNameError\u001b[0m: name 'Nan' is not defined"
     ]
    }
   ],
   "source": [
    "l=[[Nan,'0'],['0','0']]\n",
    "l"
   ]
  },
  {
   "cell_type": "code",
   "execution_count": 6,
   "metadata": {},
   "outputs": [
    {
     "output_type": "execute_result",
     "data": {
      "text/plain": [
       "     fs ds\n",
       "0  None  0\n",
       "1     0  0"
      ],
      "text/html": "<div>\n<style scoped>\n    .dataframe tbody tr th:only-of-type {\n        vertical-align: middle;\n    }\n\n    .dataframe tbody tr th {\n        vertical-align: top;\n    }\n\n    .dataframe thead th {\n        text-align: right;\n    }\n</style>\n<table border=\"1\" class=\"dataframe\">\n  <thead>\n    <tr style=\"text-align: right;\">\n      <th></th>\n      <th>fs</th>\n      <th>ds</th>\n    </tr>\n  </thead>\n  <tbody>\n    <tr>\n      <th>0</th>\n      <td>None</td>\n      <td>0</td>\n    </tr>\n    <tr>\n      <th>1</th>\n      <td>0</td>\n      <td>0</td>\n    </tr>\n  </tbody>\n</table>\n</div>"
     },
     "metadata": {},
     "execution_count": 6
    }
   ],
   "source": [
    "import pandas as pd\n",
    "df=pd.DataFrame(l)\n",
    "df.columns=['fs','ds']\n",
    "df"
   ]
  },
  {
   "cell_type": "code",
   "execution_count": 3,
   "metadata": {},
   "outputs": [],
   "source": [
    "if df.loc[0,'fs']:\n",
    "    print('ha')"
   ]
  },
  {
   "cell_type": "code",
   "execution_count": 1,
   "metadata": {},
   "outputs": [],
   "source": [
    "import pandas as pd"
   ]
  },
  {
   "cell_type": "code",
   "execution_count": 3,
   "metadata": {},
   "outputs": [
    {
     "output_type": "execute_result",
     "data": {
      "text/plain": [
       "       idx                                               text  \\\n",
       "0        1                                              title   \n",
       "1        2  Learning Phrase Representations using RNN Enco...   \n",
       "2        3                                           abstract   \n",
       "3        4  In this paper , we propose a novel neural netw...   \n",
       "4        5  One RNN encodes a sequence of symbols into a f...   \n",
       "...    ...                                                ...   \n",
       "66679  408        APPENDIX B EM ALGORITHM FOR GLCU E - STEP :   \n",
       "66680  409  Obtaining the posterior distribution of latent...   \n",
       "66681  410                             Using the results from   \n",
       "66682  411                                     resulting in :   \n",
       "66683  412  Taking derivative with respect to shared preci...   \n",
       "\n",
       "                 main_heading                 heading                topic  \\\n",
       "0                         NaN                     NaN  machine-translation   \n",
       "1                       title                   title  machine-translation   \n",
       "2                         NaN                     NaN  machine-translation   \n",
       "3                    abstract                abstract  machine-translation   \n",
       "4                    abstract                abstract  machine-translation   \n",
       "...                       ...                     ...                  ...   \n",
       "66679     D. Topic ID results                  VIII .         topic_models   \n",
       "66680     D. Topic ID results                  VIII .         topic_models   \n",
       "66681                     NaN                     NaN         topic_models   \n",
       "66682  Using the results from  Using the results from         topic_models   \n",
       "66683  Using the results from  Using the results from         topic_models   \n",
       "\n",
       "       paper_idx                                                BIO  \\\n",
       "0              0                                                NaN   \n",
       "1              0  ['O', 'O', 'O', 'O', 'O', 'O', 'O', 'O', 'O', ...   \n",
       "2              0                                                NaN   \n",
       "3              0                                                NaN   \n",
       "4              0                                                NaN   \n",
       "...          ...                                                ...   \n",
       "66679          0                                                NaN   \n",
       "66680          0                                                NaN   \n",
       "66681          0                                                NaN   \n",
       "66682          0                                                NaN   \n",
       "66683          0                                                NaN   \n",
       "\n",
       "                                                   BIO_1  \\\n",
       "0                                                    NaN   \n",
       "1      ['O', 'O', 'O', 'O', 'O', 'O', 'O', 'O', 'O', ...   \n",
       "2                                                    NaN   \n",
       "3                                                    NaN   \n",
       "4                                                    NaN   \n",
       "...                                                  ...   \n",
       "66679                                                NaN   \n",
       "66680                                                NaN   \n",
       "66681                                                NaN   \n",
       "66682                                                NaN   \n",
       "66683                                                NaN   \n",
       "\n",
       "                                                   BIO_2  offset  mask  \\\n",
       "0                                                    NaN       0     1   \n",
       "1      ['O', 'O', 'O', 'O', 'O', 'O', 'O', 'O', 'O', ...       1     1   \n",
       "2                                                    NaN       0     1   \n",
       "3                                                    NaN       1     1   \n",
       "4                                                    NaN       2     1   \n",
       "...                                                  ...     ...   ...   \n",
       "66679                                                NaN      50     1   \n",
       "66680                                                NaN      51     1   \n",
       "66681                                                NaN       0     1   \n",
       "66682                                                NaN       1     1   \n",
       "66683                                                NaN       2     1   \n",
       "\n",
       "       bi_labels            labels  \n",
       "0              0               NaN  \n",
       "1              1  research-problem  \n",
       "2              0               NaN  \n",
       "3              0               NaN  \n",
       "4              0               NaN  \n",
       "...          ...               ...  \n",
       "66679          0               NaN  \n",
       "66680          0               NaN  \n",
       "66681          0               NaN  \n",
       "66682          0               NaN  \n",
       "66683          0               NaN  \n",
       "\n",
       "[66684 rows x 13 columns]"
      ],
      "text/html": "<div>\n<style scoped>\n    .dataframe tbody tr th:only-of-type {\n        vertical-align: middle;\n    }\n\n    .dataframe tbody tr th {\n        vertical-align: top;\n    }\n\n    .dataframe thead th {\n        text-align: right;\n    }\n</style>\n<table border=\"1\" class=\"dataframe\">\n  <thead>\n    <tr style=\"text-align: right;\">\n      <th></th>\n      <th>idx</th>\n      <th>text</th>\n      <th>main_heading</th>\n      <th>heading</th>\n      <th>topic</th>\n      <th>paper_idx</th>\n      <th>BIO</th>\n      <th>BIO_1</th>\n      <th>BIO_2</th>\n      <th>offset</th>\n      <th>mask</th>\n      <th>bi_labels</th>\n      <th>labels</th>\n    </tr>\n  </thead>\n  <tbody>\n    <tr>\n      <th>0</th>\n      <td>1</td>\n      <td>title</td>\n      <td>NaN</td>\n      <td>NaN</td>\n      <td>machine-translation</td>\n      <td>0</td>\n      <td>NaN</td>\n      <td>NaN</td>\n      <td>NaN</td>\n      <td>0</td>\n      <td>1</td>\n      <td>0</td>\n      <td>NaN</td>\n    </tr>\n    <tr>\n      <th>1</th>\n      <td>2</td>\n      <td>Learning Phrase Representations using RNN Enco...</td>\n      <td>title</td>\n      <td>title</td>\n      <td>machine-translation</td>\n      <td>0</td>\n      <td>['O', 'O', 'O', 'O', 'O', 'O', 'O', 'O', 'O', ...</td>\n      <td>['O', 'O', 'O', 'O', 'O', 'O', 'O', 'O', 'O', ...</td>\n      <td>['O', 'O', 'O', 'O', 'O', 'O', 'O', 'O', 'O', ...</td>\n      <td>1</td>\n      <td>1</td>\n      <td>1</td>\n      <td>research-problem</td>\n    </tr>\n    <tr>\n      <th>2</th>\n      <td>3</td>\n      <td>abstract</td>\n      <td>NaN</td>\n      <td>NaN</td>\n      <td>machine-translation</td>\n      <td>0</td>\n      <td>NaN</td>\n      <td>NaN</td>\n      <td>NaN</td>\n      <td>0</td>\n      <td>1</td>\n      <td>0</td>\n      <td>NaN</td>\n    </tr>\n    <tr>\n      <th>3</th>\n      <td>4</td>\n      <td>In this paper , we propose a novel neural netw...</td>\n      <td>abstract</td>\n      <td>abstract</td>\n      <td>machine-translation</td>\n      <td>0</td>\n      <td>NaN</td>\n      <td>NaN</td>\n      <td>NaN</td>\n      <td>1</td>\n      <td>1</td>\n      <td>0</td>\n      <td>NaN</td>\n    </tr>\n    <tr>\n      <th>4</th>\n      <td>5</td>\n      <td>One RNN encodes a sequence of symbols into a f...</td>\n      <td>abstract</td>\n      <td>abstract</td>\n      <td>machine-translation</td>\n      <td>0</td>\n      <td>NaN</td>\n      <td>NaN</td>\n      <td>NaN</td>\n      <td>2</td>\n      <td>1</td>\n      <td>0</td>\n      <td>NaN</td>\n    </tr>\n    <tr>\n      <th>...</th>\n      <td>...</td>\n      <td>...</td>\n      <td>...</td>\n      <td>...</td>\n      <td>...</td>\n      <td>...</td>\n      <td>...</td>\n      <td>...</td>\n      <td>...</td>\n      <td>...</td>\n      <td>...</td>\n      <td>...</td>\n      <td>...</td>\n    </tr>\n    <tr>\n      <th>66679</th>\n      <td>408</td>\n      <td>APPENDIX B EM ALGORITHM FOR GLCU E - STEP :</td>\n      <td>D. Topic ID results</td>\n      <td>VIII .</td>\n      <td>topic_models</td>\n      <td>0</td>\n      <td>NaN</td>\n      <td>NaN</td>\n      <td>NaN</td>\n      <td>50</td>\n      <td>1</td>\n      <td>0</td>\n      <td>NaN</td>\n    </tr>\n    <tr>\n      <th>66680</th>\n      <td>409</td>\n      <td>Obtaining the posterior distribution of latent...</td>\n      <td>D. Topic ID results</td>\n      <td>VIII .</td>\n      <td>topic_models</td>\n      <td>0</td>\n      <td>NaN</td>\n      <td>NaN</td>\n      <td>NaN</td>\n      <td>51</td>\n      <td>1</td>\n      <td>0</td>\n      <td>NaN</td>\n    </tr>\n    <tr>\n      <th>66681</th>\n      <td>410</td>\n      <td>Using the results from</td>\n      <td>NaN</td>\n      <td>NaN</td>\n      <td>topic_models</td>\n      <td>0</td>\n      <td>NaN</td>\n      <td>NaN</td>\n      <td>NaN</td>\n      <td>0</td>\n      <td>1</td>\n      <td>0</td>\n      <td>NaN</td>\n    </tr>\n    <tr>\n      <th>66682</th>\n      <td>411</td>\n      <td>resulting in :</td>\n      <td>Using the results from</td>\n      <td>Using the results from</td>\n      <td>topic_models</td>\n      <td>0</td>\n      <td>NaN</td>\n      <td>NaN</td>\n      <td>NaN</td>\n      <td>1</td>\n      <td>1</td>\n      <td>0</td>\n      <td>NaN</td>\n    </tr>\n    <tr>\n      <th>66683</th>\n      <td>412</td>\n      <td>Taking derivative with respect to shared preci...</td>\n      <td>Using the results from</td>\n      <td>Using the results from</td>\n      <td>topic_models</td>\n      <td>0</td>\n      <td>NaN</td>\n      <td>NaN</td>\n      <td>NaN</td>\n      <td>2</td>\n      <td>1</td>\n      <td>0</td>\n      <td>NaN</td>\n    </tr>\n  </tbody>\n</table>\n<p>66684 rows × 13 columns</p>\n</div>"
     },
     "metadata": {},
     "execution_count": 3
    }
   ],
   "source": [
    "df = pd.read_csv('interim/all_sent.csv')\n",
    "df"
   ]
  },
  {
   "source": [],
   "cell_type": "markdown",
   "metadata": {}
  },
  {
   "cell_type": "code",
   "execution_count": null,
   "metadata": {},
   "outputs": [],
   "source": []
  },
  {
   "cell_type": "code",
   "execution_count": 7,
   "metadata": {},
   "outputs": [],
   "source": [
    "d = df[:5]"
   ]
  },
  {
   "cell_type": "code",
   "execution_count": 26,
   "metadata": {},
   "outputs": [
    {
     "output_type": "execute_result",
     "data": {
      "text/plain": [
       "array([1, 1, 1, 1, 1])"
      ]
     },
     "metadata": {},
     "execution_count": 26
    }
   ],
   "source": [
    "import numpy as np\n",
    "l=np.array([1,1,1,1,1])\n",
    "l"
   ]
  },
  {
   "cell_type": "code",
   "execution_count": 27,
   "metadata": {},
   "outputs": [
    {
     "output_type": "execute_result",
     "data": {
      "text/plain": [
       "   idx                                               text main_heading  \\\n",
       "0    1                                              title          NaN   \n",
       "1    2  Learning Phrase Representations using RNN Enco...        title   \n",
       "2    3                                           abstract          NaN   \n",
       "3    4  In this paper , we propose a novel neural netw...     abstract   \n",
       "4    5  One RNN encodes a sequence of symbols into a f...     abstract   \n",
       "\n",
       "    heading                topic  paper_idx  \\\n",
       "0       NaN  machine-translation          0   \n",
       "1     title  machine-translation          0   \n",
       "2       NaN  machine-translation          0   \n",
       "3  abstract  machine-translation          0   \n",
       "4  abstract  machine-translation          0   \n",
       "\n",
       "                                                 BIO  \\\n",
       "0                                                NaN   \n",
       "1  ['O', 'O', 'O', 'O', 'O', 'O', 'O', 'O', 'O', ...   \n",
       "2                                                NaN   \n",
       "3                                                NaN   \n",
       "4                                                NaN   \n",
       "\n",
       "                                               BIO_1  \\\n",
       "0                                                NaN   \n",
       "1  ['O', 'O', 'O', 'O', 'O', 'O', 'O', 'O', 'O', ...   \n",
       "2                                                NaN   \n",
       "3                                                NaN   \n",
       "4                                                NaN   \n",
       "\n",
       "                                               BIO_2  offset  mask  bi_labels  \\\n",
       "0                                                NaN       0     1          0   \n",
       "1  ['O', 'O', 'O', 'O', 'O', 'O', 'O', 'O', 'O', ...       1     1          1   \n",
       "2                                                NaN       0     1          0   \n",
       "3                                                NaN       1     1          0   \n",
       "4                                                NaN       2     1          0   \n",
       "\n",
       "             labels  \n",
       "0               NaN  \n",
       "1  research-problem  \n",
       "2               NaN  \n",
       "3               NaN  \n",
       "4               NaN  "
      ],
      "text/html": "<div>\n<style scoped>\n    .dataframe tbody tr th:only-of-type {\n        vertical-align: middle;\n    }\n\n    .dataframe tbody tr th {\n        vertical-align: top;\n    }\n\n    .dataframe thead th {\n        text-align: right;\n    }\n</style>\n<table border=\"1\" class=\"dataframe\">\n  <thead>\n    <tr style=\"text-align: right;\">\n      <th></th>\n      <th>idx</th>\n      <th>text</th>\n      <th>main_heading</th>\n      <th>heading</th>\n      <th>topic</th>\n      <th>paper_idx</th>\n      <th>BIO</th>\n      <th>BIO_1</th>\n      <th>BIO_2</th>\n      <th>offset</th>\n      <th>mask</th>\n      <th>bi_labels</th>\n      <th>labels</th>\n    </tr>\n  </thead>\n  <tbody>\n    <tr>\n      <th>0</th>\n      <td>1</td>\n      <td>title</td>\n      <td>NaN</td>\n      <td>NaN</td>\n      <td>machine-translation</td>\n      <td>0</td>\n      <td>NaN</td>\n      <td>NaN</td>\n      <td>NaN</td>\n      <td>0</td>\n      <td>1</td>\n      <td>0</td>\n      <td>NaN</td>\n    </tr>\n    <tr>\n      <th>1</th>\n      <td>2</td>\n      <td>Learning Phrase Representations using RNN Enco...</td>\n      <td>title</td>\n      <td>title</td>\n      <td>machine-translation</td>\n      <td>0</td>\n      <td>['O', 'O', 'O', 'O', 'O', 'O', 'O', 'O', 'O', ...</td>\n      <td>['O', 'O', 'O', 'O', 'O', 'O', 'O', 'O', 'O', ...</td>\n      <td>['O', 'O', 'O', 'O', 'O', 'O', 'O', 'O', 'O', ...</td>\n      <td>1</td>\n      <td>1</td>\n      <td>1</td>\n      <td>research-problem</td>\n    </tr>\n    <tr>\n      <th>2</th>\n      <td>3</td>\n      <td>abstract</td>\n      <td>NaN</td>\n      <td>NaN</td>\n      <td>machine-translation</td>\n      <td>0</td>\n      <td>NaN</td>\n      <td>NaN</td>\n      <td>NaN</td>\n      <td>0</td>\n      <td>1</td>\n      <td>0</td>\n      <td>NaN</td>\n    </tr>\n    <tr>\n      <th>3</th>\n      <td>4</td>\n      <td>In this paper , we propose a novel neural netw...</td>\n      <td>abstract</td>\n      <td>abstract</td>\n      <td>machine-translation</td>\n      <td>0</td>\n      <td>NaN</td>\n      <td>NaN</td>\n      <td>NaN</td>\n      <td>1</td>\n      <td>1</td>\n      <td>0</td>\n      <td>NaN</td>\n    </tr>\n    <tr>\n      <th>4</th>\n      <td>5</td>\n      <td>One RNN encodes a sequence of symbols into a f...</td>\n      <td>abstract</td>\n      <td>abstract</td>\n      <td>machine-translation</td>\n      <td>0</td>\n      <td>NaN</td>\n      <td>NaN</td>\n      <td>NaN</td>\n      <td>2</td>\n      <td>1</td>\n      <td>0</td>\n      <td>NaN</td>\n    </tr>\n  </tbody>\n</table>\n</div>"
     },
     "metadata": {},
     "execution_count": 27
    }
   ],
   "source": [
    "d"
   ]
  },
  {
   "cell_type": "code",
   "execution_count": 28,
   "metadata": {},
   "outputs": [
    {
     "output_type": "execute_result",
     "data": {
      "text/plain": [
       "array([0, 1, 0, 0, 0])"
      ]
     },
     "metadata": {},
     "execution_count": 28
    }
   ],
   "source": [
    "t=np.array(d['bi_labels']==1,dtype=int)\n",
    "t"
   ]
  },
  {
   "cell_type": "code",
   "execution_count": 29,
   "metadata": {},
   "outputs": [
    {
     "output_type": "execute_result",
     "data": {
      "text/plain": [
       "array([1, 1, 1, 1, 1])"
      ]
     },
     "metadata": {},
     "execution_count": 29
    }
   ],
   "source": [
    "l[t]"
   ]
  },
  {
   "cell_type": "code",
   "execution_count": 30,
   "metadata": {},
   "outputs": [
    {
     "output_type": "execute_result",
     "data": {
      "text/plain": [
       "array([0, 1, 0, 0, 0], dtype=int64)"
      ]
     },
     "metadata": {},
     "execution_count": 30
    }
   ],
   "source": [
    "d['bi_labels'].values"
   ]
  },
  {
   "cell_type": "code",
   "execution_count": 33,
   "metadata": {},
   "outputs": [],
   "source": [
    "a=np.array([1,1,1,1,1])\n",
    "b=np.array([0,1,0,1,0])"
   ]
  },
  {
   "cell_type": "code",
   "execution_count": 34,
   "metadata": {},
   "outputs": [
    {
     "output_type": "execute_result",
     "data": {
      "text/plain": [
       "array([0, 1, 0, 1, 0])"
      ]
     },
     "metadata": {},
     "execution_count": 34
    }
   ],
   "source": [
    "a*b"
   ]
  },
  {
   "cell_type": "code",
   "execution_count": null,
   "metadata": {},
   "outputs": [],
   "source": []
  }
 ]
}