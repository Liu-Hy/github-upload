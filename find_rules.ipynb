{
 "metadata": {
  "language_info": {
   "codemirror_mode": {
    "name": "ipython",
    "version": 3
   },
   "file_extension": ".py",
   "mimetype": "text/x-python",
   "name": "python",
   "nbconvert_exporter": "python",
   "pygments_lexer": "ipython3",
   "version": "3.8.5-final"
  },
  "orig_nbformat": 2,
  "kernelspec": {
   "name": "python3",
   "display_name": "Python 3",
   "language": "python"
  }
 },
 "nbformat": 4,
 "nbformat_minor": 2,
 "cells": [
  {
   "cell_type": "code",
   "execution_count": 1,
   "metadata": {},
   "outputs": [],
   "source": [
    "import pandas as pd\n",
    "import numpy as np"
   ]
  },
  {
   "cell_type": "code",
   "execution_count": 2,
   "metadata": {},
   "outputs": [
    {
     "output_type": "execute_result",
     "data": {
      "text/plain": [
       "      idx                                               text  \\\n",
       "0       2  Learning Phrase Representations using RNN Enco...   \n",
       "1      15  Along this line of research on using neural ne...   \n",
       "2      16  The proposed neural network architecture , whi...   \n",
       "3      17  The encoder maps a variable - length source se...   \n",
       "4      18  The two networks are trained jointly to maximi...   \n",
       "...   ...                                                ...   \n",
       "6123  362  presents the classification results on Fisher ...   \n",
       "6124  367  We can see that our proposed systems achieve c...   \n",
       "6125  370  presents classification results on 20 Newsgrou...   \n",
       "6126  376  We see that the topic ID systems based on Baye...   \n",
       "6127  377  We can also see that all the topic ID systems ...   \n",
       "\n",
       "             main_heading              heading                topic  \\\n",
       "0                   title                title  machine-translation   \n",
       "1            Introduction         Introduction  machine-translation   \n",
       "2            Introduction         Introduction  machine-translation   \n",
       "3            Introduction         Introduction  machine-translation   \n",
       "4            Introduction         Introduction  machine-translation   \n",
       "...                   ...                  ...                  ...   \n",
       "6123  D. Topic ID results  D. Topic ID results         topic_models   \n",
       "6124  D. Topic ID results  D. Topic ID results         topic_models   \n",
       "6125  D. Topic ID results  D. Topic ID results         topic_models   \n",
       "6126  D. Topic ID results  D. Topic ID results         topic_models   \n",
       "6127  D. Topic ID results  D. Topic ID results         topic_models   \n",
       "\n",
       "      paper_idx                                                BIO  \\\n",
       "0             0  ['O', 'O', 'O', 'O', 'O', 'O', 'O', 'O', 'O', ...   \n",
       "1             0  ['O', 'O', 'O', 'O', 'O', 'O', 'O', 'O', 'O', ...   \n",
       "2             0  ['O', 'O', 'B', 'I', 'I', 'O', 'O', 'O', 'O', ...   \n",
       "3             0  ['O', 'O', 'B', 'B', 'I', 'I', 'I', 'I', 'I', ...   \n",
       "4             0  ['O', 'O', 'O', 'O', 'B', 'B', 'B', 'I', 'O', ...   \n",
       "...         ...                                                ...   \n",
       "6123          0  ['O', 'O', 'O', 'O', 'O', 'B', 'I', 'I', 'B', ...   \n",
       "6124          0  ['O', 'O', 'B', 'I', 'B', 'I', 'I', 'B', 'B', ...   \n",
       "6125          0           ['O', 'O', 'O', 'O', 'B', 'I', 'I', 'O']   \n",
       "6126          0  ['O', 'B', 'I', 'O', 'B', 'I', 'I', 'I', 'I', ...   \n",
       "6127          0  ['O', 'O', 'O', 'O', 'O', 'O', 'O', 'B', 'I', ...   \n",
       "\n",
       "                                                  BIO_1  \\\n",
       "0     ['O', 'O', 'O', 'O', 'O', 'O', 'O', 'O', 'O', ...   \n",
       "1     ['O', 'O', 'O', 'O', 'O', 'O', 'O', 'O', 'O', ...   \n",
       "2     ['O', 'O', 'B-n', 'I-n', 'I-n', 'O', 'O', 'O',...   \n",
       "3                                                   NaN   \n",
       "4     ['O', 'O', 'O', 'O', 'B-p', 'B-n', 'B-p', 'I-p...   \n",
       "...                                                 ...   \n",
       "6123  ['O', 'O', 'O', 'O', 'O', 'B-n', 'I-n', 'I-n',...   \n",
       "6124  ['O', 'O', 'B-p', 'I-p', 'B-n', 'I-n', 'I-n', ...   \n",
       "6125     ['O', 'O', 'O', 'O', 'B-n', 'I-n', 'I-n', 'O']   \n",
       "6126  ['O', 'B-p', 'I-p', 'O', 'B-n', 'I-n', 'I-n', ...   \n",
       "6127  ['O', 'O', 'O', 'O', 'O', 'O', 'O', 'B-n', 'I-...   \n",
       "\n",
       "                                                  BIO_2  offset  mask  \\\n",
       "0     ['O', 'O', 'O', 'O', 'O', 'O', 'O', 'O', 'O', ...       1     1   \n",
       "1     ['O', 'O', 'O', 'O', 'O', 'O', 'O', 'O', 'O', ...       6     1   \n",
       "2     ['O', 'O', 'B-b', 'I-b', 'I-b', 'O', 'O', 'O',...       7     1   \n",
       "3                                                   NaN       8     1   \n",
       "4     ['O', 'O', 'O', 'O', 'B-p', 'B-b', 'B-p', 'I-p...       9     1   \n",
       "...                                                 ...     ...   ...   \n",
       "6123  ['O', 'O', 'O', 'O', 'O', 'B-b', 'I-b', 'I-b',...       4     1   \n",
       "6124  ['O', 'O', 'B-p', 'I-p', 'B-b', 'I-b', 'I-b', ...       9     1   \n",
       "6125     ['O', 'O', 'O', 'O', 'B-b', 'I-b', 'I-b', 'O']      12     1   \n",
       "6126  ['O', 'B-p', 'I-p', 'O', 'B-b', 'I-b', 'I-b', ...      18     1   \n",
       "6127  ['O', 'O', 'O', 'O', 'O', 'O', 'O', 'B-b', 'I-...      19     1   \n",
       "\n",
       "      bi_labels            labels  \n",
       "0             1  research-problem  \n",
       "1             1  research-problem  \n",
       "2             1             model  \n",
       "3             1             model  \n",
       "4             1             model  \n",
       "...         ...               ...  \n",
       "6123          1           results  \n",
       "6124          1           results  \n",
       "6125          1           results  \n",
       "6126          1           results  \n",
       "6127          1           results  \n",
       "\n",
       "[6128 rows x 13 columns]"
      ],
      "text/html": "<div>\n<style scoped>\n    .dataframe tbody tr th:only-of-type {\n        vertical-align: middle;\n    }\n\n    .dataframe tbody tr th {\n        vertical-align: top;\n    }\n\n    .dataframe thead th {\n        text-align: right;\n    }\n</style>\n<table border=\"1\" class=\"dataframe\">\n  <thead>\n    <tr style=\"text-align: right;\">\n      <th></th>\n      <th>idx</th>\n      <th>text</th>\n      <th>main_heading</th>\n      <th>heading</th>\n      <th>topic</th>\n      <th>paper_idx</th>\n      <th>BIO</th>\n      <th>BIO_1</th>\n      <th>BIO_2</th>\n      <th>offset</th>\n      <th>mask</th>\n      <th>bi_labels</th>\n      <th>labels</th>\n    </tr>\n  </thead>\n  <tbody>\n    <tr>\n      <th>0</th>\n      <td>2</td>\n      <td>Learning Phrase Representations using RNN Enco...</td>\n      <td>title</td>\n      <td>title</td>\n      <td>machine-translation</td>\n      <td>0</td>\n      <td>['O', 'O', 'O', 'O', 'O', 'O', 'O', 'O', 'O', ...</td>\n      <td>['O', 'O', 'O', 'O', 'O', 'O', 'O', 'O', 'O', ...</td>\n      <td>['O', 'O', 'O', 'O', 'O', 'O', 'O', 'O', 'O', ...</td>\n      <td>1</td>\n      <td>1</td>\n      <td>1</td>\n      <td>research-problem</td>\n    </tr>\n    <tr>\n      <th>1</th>\n      <td>15</td>\n      <td>Along this line of research on using neural ne...</td>\n      <td>Introduction</td>\n      <td>Introduction</td>\n      <td>machine-translation</td>\n      <td>0</td>\n      <td>['O', 'O', 'O', 'O', 'O', 'O', 'O', 'O', 'O', ...</td>\n      <td>['O', 'O', 'O', 'O', 'O', 'O', 'O', 'O', 'O', ...</td>\n      <td>['O', 'O', 'O', 'O', 'O', 'O', 'O', 'O', 'O', ...</td>\n      <td>6</td>\n      <td>1</td>\n      <td>1</td>\n      <td>research-problem</td>\n    </tr>\n    <tr>\n      <th>2</th>\n      <td>16</td>\n      <td>The proposed neural network architecture , whi...</td>\n      <td>Introduction</td>\n      <td>Introduction</td>\n      <td>machine-translation</td>\n      <td>0</td>\n      <td>['O', 'O', 'B', 'I', 'I', 'O', 'O', 'O', 'O', ...</td>\n      <td>['O', 'O', 'B-n', 'I-n', 'I-n', 'O', 'O', 'O',...</td>\n      <td>['O', 'O', 'B-b', 'I-b', 'I-b', 'O', 'O', 'O',...</td>\n      <td>7</td>\n      <td>1</td>\n      <td>1</td>\n      <td>model</td>\n    </tr>\n    <tr>\n      <th>3</th>\n      <td>17</td>\n      <td>The encoder maps a variable - length source se...</td>\n      <td>Introduction</td>\n      <td>Introduction</td>\n      <td>machine-translation</td>\n      <td>0</td>\n      <td>['O', 'O', 'B', 'B', 'I', 'I', 'I', 'I', 'I', ...</td>\n      <td>NaN</td>\n      <td>NaN</td>\n      <td>8</td>\n      <td>1</td>\n      <td>1</td>\n      <td>model</td>\n    </tr>\n    <tr>\n      <th>4</th>\n      <td>18</td>\n      <td>The two networks are trained jointly to maximi...</td>\n      <td>Introduction</td>\n      <td>Introduction</td>\n      <td>machine-translation</td>\n      <td>0</td>\n      <td>['O', 'O', 'O', 'O', 'B', 'B', 'B', 'I', 'O', ...</td>\n      <td>['O', 'O', 'O', 'O', 'B-p', 'B-n', 'B-p', 'I-p...</td>\n      <td>['O', 'O', 'O', 'O', 'B-p', 'B-b', 'B-p', 'I-p...</td>\n      <td>9</td>\n      <td>1</td>\n      <td>1</td>\n      <td>model</td>\n    </tr>\n    <tr>\n      <th>...</th>\n      <td>...</td>\n      <td>...</td>\n      <td>...</td>\n      <td>...</td>\n      <td>...</td>\n      <td>...</td>\n      <td>...</td>\n      <td>...</td>\n      <td>...</td>\n      <td>...</td>\n      <td>...</td>\n      <td>...</td>\n      <td>...</td>\n    </tr>\n    <tr>\n      <th>6123</th>\n      <td>362</td>\n      <td>presents the classification results on Fisher ...</td>\n      <td>D. Topic ID results</td>\n      <td>D. Topic ID results</td>\n      <td>topic_models</td>\n      <td>0</td>\n      <td>['O', 'O', 'O', 'O', 'O', 'B', 'I', 'I', 'B', ...</td>\n      <td>['O', 'O', 'O', 'O', 'O', 'B-n', 'I-n', 'I-n',...</td>\n      <td>['O', 'O', 'O', 'O', 'O', 'B-b', 'I-b', 'I-b',...</td>\n      <td>4</td>\n      <td>1</td>\n      <td>1</td>\n      <td>results</td>\n    </tr>\n    <tr>\n      <th>6124</th>\n      <td>367</td>\n      <td>We can see that our proposed systems achieve c...</td>\n      <td>D. Topic ID results</td>\n      <td>D. Topic ID results</td>\n      <td>topic_models</td>\n      <td>0</td>\n      <td>['O', 'O', 'B', 'I', 'B', 'I', 'I', 'B', 'B', ...</td>\n      <td>['O', 'O', 'B-p', 'I-p', 'B-n', 'I-n', 'I-n', ...</td>\n      <td>['O', 'O', 'B-p', 'I-p', 'B-b', 'I-b', 'I-b', ...</td>\n      <td>9</td>\n      <td>1</td>\n      <td>1</td>\n      <td>results</td>\n    </tr>\n    <tr>\n      <th>6125</th>\n      <td>370</td>\n      <td>presents classification results on 20 Newsgrou...</td>\n      <td>D. Topic ID results</td>\n      <td>D. Topic ID results</td>\n      <td>topic_models</td>\n      <td>0</td>\n      <td>['O', 'O', 'O', 'O', 'B', 'I', 'I', 'O']</td>\n      <td>['O', 'O', 'O', 'O', 'B-n', 'I-n', 'I-n', 'O']</td>\n      <td>['O', 'O', 'O', 'O', 'B-b', 'I-b', 'I-b', 'O']</td>\n      <td>12</td>\n      <td>1</td>\n      <td>1</td>\n      <td>results</td>\n    </tr>\n    <tr>\n      <th>6126</th>\n      <td>376</td>\n      <td>We see that the topic ID systems based on Baye...</td>\n      <td>D. Topic ID results</td>\n      <td>D. Topic ID results</td>\n      <td>topic_models</td>\n      <td>0</td>\n      <td>['O', 'B', 'I', 'O', 'B', 'I', 'I', 'I', 'I', ...</td>\n      <td>['O', 'B-p', 'I-p', 'O', 'B-n', 'I-n', 'I-n', ...</td>\n      <td>['O', 'B-p', 'I-p', 'O', 'B-b', 'I-b', 'I-b', ...</td>\n      <td>18</td>\n      <td>1</td>\n      <td>1</td>\n      <td>results</td>\n    </tr>\n    <tr>\n      <th>6127</th>\n      <td>377</td>\n      <td>We can also see that all the topic ID systems ...</td>\n      <td>D. Topic ID results</td>\n      <td>D. Topic ID results</td>\n      <td>topic_models</td>\n      <td>0</td>\n      <td>['O', 'O', 'O', 'O', 'O', 'O', 'O', 'B', 'I', ...</td>\n      <td>['O', 'O', 'O', 'O', 'O', 'O', 'O', 'B-n', 'I-...</td>\n      <td>['O', 'O', 'O', 'O', 'O', 'O', 'O', 'B-b', 'I-...</td>\n      <td>19</td>\n      <td>1</td>\n      <td>1</td>\n      <td>results</td>\n    </tr>\n  </tbody>\n</table>\n<p>6128 rows × 13 columns</p>\n</div>"
     },
     "metadata": {},
     "execution_count": 2
    }
   ],
   "source": [
    "df = pd.read_csv('interim/pos_sent.csv')\n",
    "df"
   ]
  },
  {
   "cell_type": "code",
   "execution_count": null,
   "metadata": {},
   "outputs": [],
   "source": [
    "def count(paper, ls):\n",
    "    df1 = df[df['paper']==paper]\n",
    "    c=0\n",
    "    for i in range(len(df1)):\n",
    "        sent = df1.iloc[i,1]\n",
    "        for word in ls:\n",
    "            if word in sent.lower().split():\n",
    "                c+=1\n",
    "                \n"
   ]
  },
  {
   "cell_type": "code",
   "execution_count": null,
   "metadata": {},
   "outputs": [],
   "source": []
  }
 ]
}