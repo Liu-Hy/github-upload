{
 "metadata": {
  "language_info": {
   "codemirror_mode": {
    "name": "ipython",
    "version": 3
   },
   "file_extension": ".py",
   "mimetype": "text/x-python",
   "name": "python",
   "nbconvert_exporter": "python",
   "pygments_lexer": "ipython3",
   "version": "3.8.5-final"
  },
  "orig_nbformat": 2,
  "kernelspec": {
   "name": "python3",
   "display_name": "Python 3",
   "language": "python"
  }
 },
 "nbformat": 4,
 "nbformat_minor": 2,
 "cells": [
  {
   "cell_type": "code",
   "execution_count": 77,
   "metadata": {},
   "outputs": [],
   "source": [
    "import pandas as pd"
   ]
  },
  {
   "cell_type": "code",
   "execution_count": 78,
   "metadata": {},
   "outputs": [],
   "source": [
    "df= pd.read_csv('./interim/all_sent.csv')"
   ]
  },
  {
   "cell_type": "code",
   "execution_count": 79,
   "metadata": {},
   "outputs": [],
   "source": [
    "df['paper'] = df['topic'] + df['paper_idx'].astype(str)\n",
    "df = df.set_index(\"paper\")"
   ]
  },
  {
   "cell_type": "code",
   "execution_count": null,
   "metadata": {},
   "outputs": [],
   "source": [
    "temp = df.loc['machine-translation1']\n",
    "for i in range(len(temp)-1):\n",
    "    for j in range(1, len(temp)):\n",
    "        if"
   ]
  },
  {
   "cell_type": "code",
   "execution_count": 21,
   "metadata": {},
   "outputs": [
    {
     "output_type": "execute_result",
     "data": {
      "text/plain": [
       "[0, 1, 2, 3, 4, 5, 6, 7, 8, 9]"
      ]
     },
     "metadata": {},
     "execution_count": 21
    }
   ],
   "source": [
    "list(range(0,10))"
   ]
  },
  {
   "cell_type": "code",
   "execution_count": 65,
   "metadata": {},
   "outputs": [
    {
     "output_type": "execute_result",
     "data": {
      "text/plain": [
       "       idx                                               text  \\\n",
       "1176   220  The most critical component is the weight - sh...   \n",
       "1177   221  The embedding - reinforced encoder also brings...   \n",
       "1178   222  When we remove the directional self - attentio...   \n",
       "1180   224  The GANs also significantly improve the transl...   \n",
       "4151   174  We also observe that models that use both feat...   \n",
       "...    ...                                                ...   \n",
       "64363  202  shows that the seq2seq model produces more nov...   \n",
       "64364  203  However , when we exclude all the words not in...   \n",
       "64366  205  6.6.3 Could the entailment recognition also be...   \n",
       "64369  208  shows that our summarization model with MTL ou...   \n",
       "64370  209  As ? increases , the accuracy of entailment re...   \n",
       "\n",
       "            main_heading           heading  offset  mask  bi_labels  \\\n",
       "1176      Ablation study    Ablation study       5     1          1   \n",
       "1177      Ablation study    Ablation study       6     1          1   \n",
       "1178      Ablation study    Ablation study       7     1          1   \n",
       "1180      Ablation study    Ablation study       9     1          1   \n",
       "4151               Model             Model       1     1          1   \n",
       "...                  ...               ...     ...   ...        ...   \n",
       "64363  Manual Evaluation  Further Analysis      20     1          1   \n",
       "64364  Manual Evaluation  Further Analysis      21     1          1   \n",
       "64366  Manual Evaluation  Further Analysis      23     1          1   \n",
       "64369  Manual Evaluation  Further Analysis      26     1          1   \n",
       "64370  Manual Evaluation  Further Analysis      27     1          1   \n",
       "\n",
       "                  labels  \n",
       "1176   ablation-analysis  \n",
       "1177   ablation-analysis  \n",
       "1178   ablation-analysis  \n",
       "1180   ablation-analysis  \n",
       "4151   ablation-analysis  \n",
       "...                  ...  \n",
       "64363  ablation-analysis  \n",
       "64364  ablation-analysis  \n",
       "64366  ablation-analysis  \n",
       "64369  ablation-analysis  \n",
       "64370  ablation-analysis  \n",
       "\n",
       "[392 rows x 8 columns]"
      ],
      "text/html": "<div>\n<style scoped>\n    .dataframe tbody tr th:only-of-type {\n        vertical-align: middle;\n    }\n\n    .dataframe tbody tr th {\n        vertical-align: top;\n    }\n\n    .dataframe thead th {\n        text-align: right;\n    }\n</style>\n<table border=\"1\" class=\"dataframe\">\n  <thead>\n    <tr style=\"text-align: right;\">\n      <th></th>\n      <th>idx</th>\n      <th>text</th>\n      <th>main_heading</th>\n      <th>heading</th>\n      <th>offset</th>\n      <th>mask</th>\n      <th>bi_labels</th>\n      <th>labels</th>\n    </tr>\n  </thead>\n  <tbody>\n    <tr>\n      <th>1176</th>\n      <td>220</td>\n      <td>The most critical component is the weight - sh...</td>\n      <td>Ablation study</td>\n      <td>Ablation study</td>\n      <td>5</td>\n      <td>1</td>\n      <td>1</td>\n      <td>ablation-analysis</td>\n    </tr>\n    <tr>\n      <th>1177</th>\n      <td>221</td>\n      <td>The embedding - reinforced encoder also brings...</td>\n      <td>Ablation study</td>\n      <td>Ablation study</td>\n      <td>6</td>\n      <td>1</td>\n      <td>1</td>\n      <td>ablation-analysis</td>\n    </tr>\n    <tr>\n      <th>1178</th>\n      <td>222</td>\n      <td>When we remove the directional self - attentio...</td>\n      <td>Ablation study</td>\n      <td>Ablation study</td>\n      <td>7</td>\n      <td>1</td>\n      <td>1</td>\n      <td>ablation-analysis</td>\n    </tr>\n    <tr>\n      <th>1180</th>\n      <td>224</td>\n      <td>The GANs also significantly improve the transl...</td>\n      <td>Ablation study</td>\n      <td>Ablation study</td>\n      <td>9</td>\n      <td>1</td>\n      <td>1</td>\n      <td>ablation-analysis</td>\n    </tr>\n    <tr>\n      <th>4151</th>\n      <td>174</td>\n      <td>We also observe that models that use both feat...</td>\n      <td>Model</td>\n      <td>Model</td>\n      <td>1</td>\n      <td>1</td>\n      <td>1</td>\n      <td>ablation-analysis</td>\n    </tr>\n    <tr>\n      <th>...</th>\n      <td>...</td>\n      <td>...</td>\n      <td>...</td>\n      <td>...</td>\n      <td>...</td>\n      <td>...</td>\n      <td>...</td>\n      <td>...</td>\n    </tr>\n    <tr>\n      <th>64363</th>\n      <td>202</td>\n      <td>shows that the seq2seq model produces more nov...</td>\n      <td>Manual Evaluation</td>\n      <td>Further Analysis</td>\n      <td>20</td>\n      <td>1</td>\n      <td>1</td>\n      <td>ablation-analysis</td>\n    </tr>\n    <tr>\n      <th>64364</th>\n      <td>203</td>\n      <td>However , when we exclude all the words not in...</td>\n      <td>Manual Evaluation</td>\n      <td>Further Analysis</td>\n      <td>21</td>\n      <td>1</td>\n      <td>1</td>\n      <td>ablation-analysis</td>\n    </tr>\n    <tr>\n      <th>64366</th>\n      <td>205</td>\n      <td>6.6.3 Could the entailment recognition also be...</td>\n      <td>Manual Evaluation</td>\n      <td>Further Analysis</td>\n      <td>23</td>\n      <td>1</td>\n      <td>1</td>\n      <td>ablation-analysis</td>\n    </tr>\n    <tr>\n      <th>64369</th>\n      <td>208</td>\n      <td>shows that our summarization model with MTL ou...</td>\n      <td>Manual Evaluation</td>\n      <td>Further Analysis</td>\n      <td>26</td>\n      <td>1</td>\n      <td>1</td>\n      <td>ablation-analysis</td>\n    </tr>\n    <tr>\n      <th>64370</th>\n      <td>209</td>\n      <td>As ? increases , the accuracy of entailment re...</td>\n      <td>Manual Evaluation</td>\n      <td>Further Analysis</td>\n      <td>27</td>\n      <td>1</td>\n      <td>1</td>\n      <td>ablation-analysis</td>\n    </tr>\n  </tbody>\n</table>\n<p>392 rows × 8 columns</p>\n</div>"
     },
     "metadata": {},
     "execution_count": 65
    }
   ],
   "source": [
    "df=df.drop(columns=['BIO','BIO_1','BIO_2','paper_idx','topic'])\n",
    "df[df['labels']=='ablation-analysis']"
   ]
  },
  {
   "cell_type": "code",
   "execution_count": 2,
   "metadata": {},
   "outputs": [],
   "source": [
    "def compute(a,b):\n",
    "    tn = 30659*b\n",
    "    fp = 30659*(1-b)\n",
    "    fn = ((1/a)-1)*tn\n",
    "    tp = 33637-tn-fn-fp\n",
    "    pc = tp/(tp+fp)\n",
    "    print(pc)\n",
    "    rc = tp/(tp+fn)\n",
    "    print(rc)\n",
    "    f1 = 2*pc*rc/(pc+rc)\n",
    "    return f1"
   ]
  },
  {
   "cell_type": "code",
   "execution_count": 4,
   "metadata": {},
   "outputs": [
    {
     "output_type": "stream",
     "name": "stdout",
     "text": [
      "0.3711934153536782\n0.9116071731417597\n"
     ]
    },
    {
     "output_type": "execute_result",
     "data": {
      "text/plain": [
       "0.5275684827308684"
      ]
     },
     "metadata": {},
     "execution_count": 4
    }
   ],
   "source": [
    "compute(0.99,0.85)"
   ]
  },
  {
   "cell_type": "code",
   "execution_count": 82,
   "metadata": {},
   "outputs": [
    {
     "output_type": "execute_result",
     "data": {
      "text/plain": [
       "array([[220,\n",
       "        'The most critical component is the weight - sharing constraint , which is vital to map sentences of different languages to the shared - latent space .',\n",
       "        'Ablation study', ..., 1, 1, 'ablation-analysis'],\n",
       "       [221,\n",
       "        'The embedding - reinforced encoder also brings some improvement on all of the translation tasks .',\n",
       "        'Ablation study', ..., 1, 1, 'ablation-analysis'],\n",
       "       [222,\n",
       "        'When we remove the directional self - attention , we getup to - 0.3 BLEU points decline .',\n",
       "        'Ablation study', ..., 1, 1, 'ablation-analysis'],\n",
       "       ...,\n",
       "       [205, '6.6.3 Could the entailment recognition also be improved ?',\n",
       "        'Manual Evaluation', ..., 1, 1, 'ablation-analysis'],\n",
       "       [208,\n",
       "        'shows that our summarization model with MTL outperforms basic seq2seq model .',\n",
       "        'Manual Evaluation', ..., 1, 1, 'ablation-analysis'],\n",
       "       [209,\n",
       "        'As ? increases , the accuracy of entailment recognition improves and finally exceeds that of the model without MTL , which reveals the advantage of MTL framework .',\n",
       "        'Manual Evaluation', ..., 1, 1, 'ablation-analysis']],\n",
       "      dtype=object)"
      ]
     },
     "metadata": {},
     "execution_count": 82
    }
   ],
   "source": [
    "import numpy as np\n",
    "#df=df.drop(columns=['BIO','BIO_1','BIO_2','topic','paper_idx'])\n",
    "df[df['labels']=='ablation-analysis'].values"
   ]
  },
  {
   "cell_type": "code",
   "execution_count": null,
   "metadata": {},
   "outputs": [],
   "source": []
  }
 ]
}