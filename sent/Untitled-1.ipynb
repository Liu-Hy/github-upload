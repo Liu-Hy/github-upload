{
 "metadata": {
  "language_info": {
   "codemirror_mode": {
    "name": "ipython",
    "version": 3
   },
   "file_extension": ".py",
   "mimetype": "text/x-python",
   "name": "python",
   "nbconvert_exporter": "python",
   "pygments_lexer": "ipython3",
   "version": "3.8.5-final"
  },
  "orig_nbformat": 2,
  "kernelspec": {
   "name": "python3",
   "display_name": "Python 3",
   "language": "python"
  }
 },
 "nbformat": 4,
 "nbformat_minor": 2,
 "cells": [
  {
   "cell_type": "code",
   "execution_count": 1,
   "metadata": {},
   "outputs": [],
   "source": [
    "import pandas as pd\n",
    "import numpy as np\n",
    "import random"
   ]
  },
  {
   "cell_type": "code",
   "execution_count": 2,
   "metadata": {},
   "outputs": [
    {
     "output_type": "execute_result",
     "data": {
      "text/plain": [
       "array(['machine-translation7', 'named-entity-recognition3',\n",
       "       'named-entity-recognition4', 'named-entity-recognition8',\n",
       "       'question-answering7', 'relation-classification9',\n",
       "       'text-classification2', 'text-classification6'], dtype=object)"
      ]
     },
     "metadata": {},
     "execution_count": 2
    }
   ],
   "source": [
    "df = pd.read_csv('../interim/pos_sent.csv')\n",
    "df['paper']=df['topic']+df['paper_idx'].astype(str)\n",
    "df[df['labels']=='tasks']['paper'].unique()"
   ]
  },
  {
   "cell_type": "code",
   "execution_count": null,
   "metadata": {},
   "outputs": [],
   "source": [
    "df = pd.read_csv('../interim/all_sent.csv')\n",
    "df = df.drop(columns=['BIO', 'BIO_1', 'BIO_2', 'labels']).rename(\n",
    "    columns={'bi_labels': 'labels'})"
   ]
  },
  {
   "cell_type": "code",
   "execution_count": null,
   "metadata": {},
   "outputs": [],
   "source": [
    "df['title'] = df['main_heading'] + ': ' + df['heading']\n",
    "df.loc[((df['main_heading'] == df['heading']) | (pd.isnull(df['heading']))), 'title'] = df['main_heading']"
   ]
  },
  {
   "cell_type": "code",
   "execution_count": null,
   "metadata": {},
   "outputs": [],
   "source": [
    "df['title'] = df['title'].fillna('')\n",
    "#df[\"text\"] = df[\"main_heading\"]+': '+df[\"text\"]\n",
    "df['paper'] = df['topic'] + df['paper_idx'].astype(str)\n",
    "ids = df[\"paper\"].unique()\n",
    "random.seed(1)\n",
    "random.shuffle(ids)\n",
    "bound = int(0.8*len(ids))\n",
    "\n",
    "train_df = df.set_index(\"paper\").loc[ids[:bound]].reset_index()\n",
    "eval_df = df.set_index(\"paper\").loc[ids[bound:]].reset_index()\n",
    "train_df = train_df.sample(frac=1, random_state=1)"
   ]
  },
  {
   "cell_type": "code",
   "execution_count": null,
   "metadata": {},
   "outputs": [],
   "source": [
    "train_df"
   ]
  },
  {
   "cell_type": "code",
   "execution_count": null,
   "metadata": {},
   "outputs": [],
   "source": [
    "eval_df[180:200]"
   ]
  },
  {
   "cell_type": "code",
   "execution_count": null,
   "metadata": {},
   "outputs": [],
   "source": [
    "df = pd.read_csv('../interim/all_sent.csv')\n",
    "df = df.drop(columns=['BIO', 'BIO_1', 'BIO_2'])"
   ]
  },
  {
   "cell_type": "code",
   "execution_count": null,
   "metadata": {},
   "outputs": [],
   "source": [
    "df['labels'] = df['labels'].fillna('negative')\n",
    "label_ls = list(np.unique(df['labels']))\n",
    "label_ls"
   ]
  },
  {
   "cell_type": "code",
   "execution_count": null,
   "metadata": {},
   "outputs": [],
   "source": [
    "for label in label_ls:\n",
    "    print(len(df[df['labels']==label]))"
   ]
  },
  {
   "cell_type": "code",
   "execution_count": null,
   "metadata": {},
   "outputs": [],
   "source": [
    "import numpy as np"
   ]
  },
  {
   "cell_type": "code",
   "execution_count": null,
   "metadata": {},
   "outputs": [],
   "source": [
    "ls = ['fe','fes','ujt']\n",
    "a = np.array(ls)\n",
    "a"
   ]
  },
  {
   "cell_type": "code",
   "execution_count": null,
   "metadata": {},
   "outputs": [],
   "source": [
    "np.arange(13)"
   ]
  },
  {
   "cell_type": "code",
   "execution_count": null,
   "metadata": {},
   "outputs": [],
   "source": []
  }
 ]
}