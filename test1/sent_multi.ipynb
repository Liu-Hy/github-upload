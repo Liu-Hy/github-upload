{
 "cells": [
  {
   "cell_type": "code",
   "execution_count": 1,
   "id": "large-occasion",
   "metadata": {},
   "outputs": [],
   "source": [
    "import logging\n",
    "\n",
    "import pandas as pd\n",
    "import sklearn\n",
    "import random\n",
    "import wandb\n",
    "import numpy as np\n",
    "import seaborn as sn\n",
    "import matplotlib.pyplot as plt\n",
    "from sklearn.metrics import classification_report, confusion_matrix\n",
    "from simpletransformers.classification import (\n",
    "    ClassificationArgs1,\n",
    "    ClassificationModel1,\n",
    ")\n",
    "\n",
    "logging.basicConfig(level=logging.INFO)\n",
    "transformers_logger = logging.getLogger(\"transformers\")\n",
    "transformers_logger.setLevel(logging.WARNING)"
   ]
  },
  {
   "cell_type": "code",
   "execution_count": 2,
   "id": "hindu-gibson",
   "metadata": {},
   "outputs": [],
   "source": [
    "df = pd.read_csv('pos_sent.csv')\n",
    "df['labels']='results'"
   ]
  },
  {
   "cell_type": "code",
   "execution_count": 3,
   "id": "developed-university",
   "metadata": {},
   "outputs": [],
   "source": [
    "label_list = ['results',\n",
    "               'ablation-analysis',\n",
    "               'method',\n",
    "               'baselines',\n",
    "               'dataset',\n",
    "               'hyper-setup',\n",
    "               'experiments',\n",
    "               'research-problem',\n",
    "               'tasks']"
   ]
  },
  {
   "cell_type": "code",
   "execution_count": 4,
   "id": "tropical-presence",
   "metadata": {},
   "outputs": [],
   "source": [
    "model_args = ClassificationArgs1()\n",
    "\n",
    "model_args.labels_list = label_list\n",
    "model_args.normalize_ofs = True\n",
    "model_args.overwrite_output_dir = True\n",
    "model_args.reprocess_input_data = True\n",
    "model_args.manual_seed = 1\n",
    "model_args.fp16 = False\n",
    "model_args.use_multiprocessing = True\n",
    "model_args.do_lower_case = True  # when using uncased model"
   ]
  },
  {
   "cell_type": "code",
   "execution_count": 5,
   "id": "amateur-vegetation",
   "metadata": {},
   "outputs": [],
   "source": [
    "model = ClassificationModel1(\n",
    "    \"bert\",\n",
    "    \"../sent/Moutputs/best_model\",\n",
    "    num_labels=9,\n",
    "    args=model_args,\n",
    ")"
   ]
  },
  {
   "cell_type": "code",
   "execution_count": 6,
   "id": "chinese-citizenship",
   "metadata": {},
   "outputs": [
    {
     "name": "stderr",
     "output_type": "stream",
     "text": [
      "INFO:simpletransformers.classification.classification_model1: Converting to features started. Cache is not used.\n"
     ]
    },
    {
     "data": {
      "application/vnd.jupyter.widget-view+json": {
       "model_id": "28d8b0a34711411bac5f2fbb4bfd02aa",
       "version_major": 2,
       "version_minor": 0
      },
      "text/plain": [
       "  0%|          | 0/3149 [00:00<?, ?it/s]"
      ]
     },
     "metadata": {},
     "output_type": "display_data"
    },
    {
     "data": {
      "application/vnd.jupyter.widget-view+json": {
       "model_id": "a9ea78e50e024f779c3f85bb072d3204",
       "version_major": 2,
       "version_minor": 0
      },
      "text/plain": [
       "Running Evaluation:   0%|          | 0/394 [00:00<?, ?it/s]"
      ]
     },
     "metadata": {},
     "output_type": "display_data"
    },
    {
     "name": "stderr",
     "output_type": "stream",
     "text": [
      "/opt/conda/envs/hl/lib/python3.9/site-packages/sklearn/metrics/_classification.py:1245: UndefinedMetricWarning: Recall and F-score are ill-defined and being set to 0.0 in labels with no true samples. Use `zero_division` parameter to control this behavior.\n",
      "  _warn_prf(average, modifier, msg_start, len(result))\n",
      "/opt/conda/envs/hl/lib/python3.9/site-packages/sklearn/metrics/_classification.py:1245: UndefinedMetricWarning: Recall and F-score are ill-defined and being set to 0.0 in labels with no true samples. Use `zero_division` parameter to control this behavior.\n",
      "  _warn_prf(average, modifier, msg_start, len(result))\n",
      "/opt/conda/envs/hl/lib/python3.9/site-packages/sklearn/metrics/_classification.py:1245: UndefinedMetricWarning: Recall and F-score are ill-defined and being set to 0.0 in labels with no true samples. Use `zero_division` parameter to control this behavior.\n",
      "  _warn_prf(average, modifier, msg_start, len(result))\n"
     ]
    },
    {
     "name": "stdout",
     "output_type": "stream",
     "text": [
      "                   precision    recall  f1-score   support\n",
      "\n",
      "          results       1.00      0.25      0.40      3149\n",
      "ablation-analysis       0.00      0.00      0.00         0\n",
      "           method       0.00      0.00      0.00         0\n",
      "        baselines       0.00      0.00      0.00         0\n",
      "          dataset       0.00      0.00      0.00         0\n",
      "      hyper-setup       0.00      0.00      0.00         0\n",
      "      experiments       0.00      0.00      0.00         0\n",
      " research-problem       0.00      0.00      0.00         0\n",
      "            tasks       0.00      0.00      0.00         0\n",
      "\n",
      "         accuracy                           0.25      3149\n",
      "        macro avg       0.11      0.03      0.04      3149\n",
      "     weighted avg       1.00      0.25      0.40      3149\n",
      "\n",
      "[[794 165 628 172  14 571 346 435  24]\n",
      " [  0   0   0   0   0   0   0   0   0]\n",
      " [  0   0   0   0   0   0   0   0   0]\n",
      " [  0   0   0   0   0   0   0   0   0]\n",
      " [  0   0   0   0   0   0   0   0   0]\n",
      " [  0   0   0   0   0   0   0   0   0]\n",
      " [  0   0   0   0   0   0   0   0   0]\n",
      " [  0   0   0   0   0   0   0   0   0]\n",
      " [  0   0   0   0   0   0   0   0   0]]\n"
     ]
    },
    {
     "name": "stderr",
     "output_type": "stream",
     "text": [
      "/opt/conda/envs/hl/lib/python3.9/site-packages/sklearn/metrics/_classification.py:870: RuntimeWarning: invalid value encountered in double_scalars\n",
      "  mcc = cov_ytyp / np.sqrt(cov_ytyt * cov_ypyp)\n",
      "INFO:simpletransformers.classification.classification_model1:{'mcc': 0.0, 'F1_score': 0.04474878124383577, 'eval_loss': 5.794400877825712}\n"
     ]
    },
    {
     "data": {
      "image/png": "[encoded data removed]",
      "text/plain": [
       "<Figure size 648x648 with 2 Axes>"
      ]
     },
     "metadata": {
      "needs_background": "light"
     },
     "output_type": "display_data"
    },
    {
     "data": {
      "image/png": "[encoded data removed]",
      "text/plain": [
       "<Figure size 648x648 with 2 Axes>"
      ]
     },
     "metadata": {
      "needs_background": "light"
     },
     "output_type": "display_data"
    }
   ],
   "source": [
    "def F1_score(ref, pred):\n",
    "    print(classification_report(ref, pred, target_names=label_list))\n",
    "    cm = confusion_matrix(ref, pred, labels=np.arange(9), normalize=None)\n",
    "    print(cm)\n",
    "    cm = confusion_matrix(ref, pred, labels=np.arange(9), normalize='true')\n",
    "    cm = cm.tolist()\n",
    "    df_cm = pd.DataFrame(cm, index = label_list, columns = label_list)\n",
    "    plt.figure(figsize = (9,9))\n",
    "    sn.heatmap(df_cm, annot=True)\n",
    "    \n",
    "    cm = confusion_matrix(ref, pred, labels=np.arange(9), normalize='pred')\n",
    "    cm = cm.tolist()\n",
    "    df_cm = pd.DataFrame(cm, index = label_list, columns = label_list)\n",
    "    plt.figure(figsize = (9,9))\n",
    "    sn.heatmap(df_cm, annot=True)\n",
    "    return sklearn.metrics.f1_score(ref, pred, labels=np.arange(9), average='macro')\n",
    "\n",
    "result, model_outputs, wrong_predictions = model.eval_model(df, F1_score=F1_score)"
   ]
  },
  {
   "cell_type": "code",
   "execution_count": 7,
   "id": "ambient-credit",
   "metadata": {},
   "outputs": [],
   "source": [
    "preds = list(model_outputs.argmax(axis=1))\n",
    "preds = [label_list[p] for p in preds]\n",
    "df['labels']=preds\n",
    "df['paper']=df['topic']+df['paper_idx'].astype(str)"
   ]
  },
  {
   "cell_type": "code",
   "execution_count": 8,
   "id": "anticipated-simpson",
   "metadata": {},
   "outputs": [],
   "source": [
    "def judge_code(s):\n",
    "    s=s.lower()\n",
    "    if 'github.' in s or 'github .' in s:\n",
    "        return 1\n",
    "    elif ('https:' in s or 'http:' in s) and ('available' in s or 'code' in s):\n",
    "        return 1\n",
    "    else:\n",
    "        return 0\n",
    "\n",
    "def classify_method(df):\n",
    "    headings = ''.join(str(heading).lower() for heading in df['main_heading'].unique())\n",
    "    if 'model' in headings:\n",
    "        return 'model'\n",
    "    elif 'approach' in headings:\n",
    "        return 'approach'\n",
    "    text = ''.join(df['text']).lower()\n",
    "    if 'system' in text or 'architecture' in text:\n",
    "        return 'model'\n",
    "    if 'approach' in text and \\\n",
    "        not ('existing approach' in text or 'previous approach' in text or 'former approach' in text):\n",
    "        return 'approach'\n",
    "    return 'model'\n",
    "\n",
    "terms = set(['keras', 'pytorch', 'torch', 'tensorflow', 'theano', 'cuda', 'cpu', 'cpus',\n",
    "              'gpu', 'gpus', 'nvidia', 'intel', 'gtx', 'geforce', 'tesla','titan',\n",
    "             'nltk', 'spacy', 'corenlp', 'stanford', 'tokenizer',\n",
    "              'run'])\n",
    "\n",
    "def classify_hyper_setup(df): # df should contain sentences from the same paper\n",
    "    df=df[df['labels']=='hyper-setup']\n",
    "    text=' '.join(list(df['text'].values))\n",
    "    if len(terms.intersection(set(text.lower().split()))) > 0:\n",
    "        return 'experimental-setup'\n",
    "    else:\n",
    "        return 'hyperparameters'"
   ]
  },
  {
   "cell_type": "code",
   "execution_count": 9,
   "id": "imperial-heaven",
   "metadata": {},
   "outputs": [],
   "source": [
    "df1=df[df['labels']=='method']\n",
    "paper_ls=list(df1['paper'].unique())\n",
    "for paper in paper_ls:\n",
    "    df.loc[(df['paper']==paper)&(df['labels']=='method'),'labels']=classify_method(df[df['paper']==paper])"
   ]
  },
  {
   "cell_type": "code",
   "execution_count": 10,
   "id": "fewer-hearts",
   "metadata": {},
   "outputs": [],
   "source": [
    "df2=df[df['labels']=='hyper-setup']\n",
    "paper_ls=list(df2['paper'].unique())\n",
    "for paper in paper_ls:\n",
    "    df.loc[(df['paper']==paper)&(df['labels']=='hyper-setup'),'labels']=classify_hyper_setup(df[df['paper']==paper])"
   ]
  },
  {
   "cell_type": "code",
   "execution_count": 11,
   "id": "contained-minority",
   "metadata": {},
   "outputs": [],
   "source": [
    "for i in range(len(df)):\n",
    "    if judge_code(df.iloc[i,1])==1:\n",
    "        df.at[i,'labels']='code'"
   ]
  },
  {
   "cell_type": "code",
   "execution_count": 12,
   "id": "hispanic-reader",
   "metadata": {},
   "outputs": [
    {
     "data": {
      "text/plain": [
       "Counter({'research-problem': 424,\n",
       "         'model': 556,\n",
       "         'hyperparameters': 298,\n",
       "         'results': 791,\n",
       "         'approach': 70,\n",
       "         'experimental-setup': 267,\n",
       "         'experiments': 342,\n",
       "         'ablation-analysis': 164,\n",
       "         'code': 35,\n",
       "         'baselines': 171,\n",
       "         'tasks': 24,\n",
       "         'dataset': 7})"
      ]
     },
     "execution_count": 12,
     "metadata": {},
     "output_type": "execute_result"
    }
   ],
   "source": [
    "from collections import Counter\n",
    "Counter(df['labels'].values)"
   ]
  },
  {
   "cell_type": "code",
   "execution_count": 13,
   "id": "upper-species",
   "metadata": {},
   "outputs": [],
   "source": [
    "df.to_csv('pos_sent.csv', index=False)"
   ]
  }
 ],
 "metadata": {
  "kernelspec": {
   "display_name": "Python 3",
   "language": "python",
   "name": "python3"
  },
  "language_info": {
   "codemirror_mode": {
    "name": "ipython",
    "version": 3
   },
   "file_extension": ".py",
   "mimetype": "text/x-python",
   "name": "python",
   "nbconvert_exporter": "python",
   "pygments_lexer": "ipython3",
   "version": "3.9.1"
  }
 },
 "nbformat": 4,
 "nbformat_minor": 5
}
