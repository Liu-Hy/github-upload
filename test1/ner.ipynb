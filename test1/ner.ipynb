{
 "cells": [
  {
   "cell_type": "code",
   "execution_count": 17,
   "id": "designing-islam",
   "metadata": {},
   "outputs": [],
   "source": [
    "import os\n",
    "import pandas as pd\n",
    "import pickle\n",
    "from ast import literal_eval\n",
    "import logging\n",
    "import argparse\n",
    "from simpletransformers.ner import (\n",
    "    NERArgs,\n",
    "    NERModel,\n",
    ")"
   ]
  },
  {
   "cell_type": "code",
   "execution_count": 2,
   "id": "productive-ethernet",
   "metadata": {},
   "outputs": [],
   "source": [
    "BIO_type = 1\n",
    "\n",
    "labelset = [\"B-p\", \"I-p\", \"B-n\", \"I-n\", \"O\"]\n",
    "type_ls = ['-p', '-n']"
   ]
  },
  {
   "cell_type": "code",
   "execution_count": 3,
   "id": "animal-maintenance",
   "metadata": {},
   "outputs": [
    {
     "name": "stdout",
     "output_type": "stream",
     "text": [
      "3149\n",
      "3149\n"
     ]
    }
   ],
   "source": [
    "logging.basicConfig(level=logging.INFO)\n",
    "transformers_logger = logging.getLogger(\"transformers\")\n",
    "transformers_logger.setLevel(logging.WARNING)\n",
    "\n",
    "pos = pd.read_csv('pos_sent.csv')\n",
    "print(len(pos))\n",
    "col_name = pos.columns[6+BIO_type]\n",
    "pos = pos.dropna(axis=0, subset=[col_name])\n",
    "print(len(pos))"
   ]
  },
  {
   "cell_type": "code",
   "execution_count": 4,
   "id": "oriented-values",
   "metadata": {},
   "outputs": [],
   "source": [
    "data = []\n",
    "for i in range(len(pos)):\n",
    "    words = pos.iloc[i, 1].split(' ')\n",
    "    tags = literal_eval(pos.iloc[i, 6+BIO_type])\n",
    "    for j in range(len(words)):\n",
    "        data.append([i, words[j], tags[j]])\n",
    "df = pd.DataFrame(data, columns=['sentence_id', 'words', 'labels'])"
   ]
  },
  {
   "cell_type": "code",
   "execution_count": 5,
   "id": "representative-plenty",
   "metadata": {},
   "outputs": [],
   "source": [
    "model_args = NERArgs()\n",
    "model_args.reprocess_input_data = True\n",
    "model_args.save_model_every_epoch = False\n",
    "model_args.overwrite_output_dir = True\n",
    "model_args.fp16 = False\n",
    "model_args.manual_seed = 1\n",
    "model_args.use_multiprocessing = True\n",
    "model_args.do_lower_case = False"
   ]
  },
  {
   "cell_type": "code",
   "execution_count": 6,
   "id": "superior-planet",
   "metadata": {},
   "outputs": [],
   "source": [
    "def phrase_F1(ref, pred):\n",
    "    return 0\n",
    "\n",
    "# Create a TransformerModel\n",
    "model = NERModel(\n",
    "    \"xlmroberta\",\n",
    "    \"../ner/Noutputs/best_model\",\n",
    "    labels=labelset,\n",
    "    args=model_args,\n",
    ")"
   ]
  },
  {
   "cell_type": "code",
   "execution_count": 7,
   "id": "indonesian-batman",
   "metadata": {},
   "outputs": [
    {
     "name": "stderr",
     "output_type": "stream",
     "text": [
      "INFO:simpletransformers.ner.ner_model: Converting to features started.\n"
     ]
    },
    {
     "data": {
      "application/vnd.jupyter.widget-view+json": {
       "model_id": "6989a2789c8844f5883c44b9734760ed",
       "version_major": 2,
       "version_minor": 0
      },
      "text/plain": [
       "  0%|          | 0/3149 [00:00<?, ?it/s]"
      ]
     },
     "metadata": {},
     "output_type": "display_data"
    },
    {
     "data": {
      "application/vnd.jupyter.widget-view+json": {
       "model_id": "dd8e3b91ed1842d3a267e4fffb25787a",
       "version_major": 2,
       "version_minor": 0
      },
      "text/plain": [
       "Running Evaluation:   0%|          | 0/394 [00:00<?, ?it/s]"
      ]
     },
     "metadata": {},
     "output_type": "display_data"
    },
    {
     "name": "stderr",
     "output_type": "stream",
     "text": [
      "/opt/conda/envs/hl/lib/python3.9/site-packages/seqeval/metrics/v1.py:57: UndefinedMetricWarning: Recall is ill-defined and being set to 0.0 due to no true samples. Use `zero_division` parameter to control this behavior.\n",
      "  _warn_prf(average, modifier, msg_start, len(result))\n",
      "INFO:simpletransformers.ner.ner_model:{'eval_loss': 2.7530998868990673, 'precision': 0.0, 'recall': 0.0, 'f1_score': 0.0, 'F1_score': 0}\n"
     ]
    }
   ],
   "source": [
    "result, model_outputs, pred_label = model.eval_model(df, F1_score=phrase_F1)\n",
    "# 'pred_label' is a list, where each element is the list of predicted labels for one sentence"
   ]
  },
  {
   "cell_type": "code",
   "execution_count": 20,
   "id": "filled-vector",
   "metadata": {},
   "outputs": [],
   "source": [
    "p=[str(l) for l in pred_label]"
   ]
  },
  {
   "cell_type": "code",
   "execution_count": 21,
   "id": "powered-undergraduate",
   "metadata": {},
   "outputs": [],
   "source": [
    "pos = pd.read_csv('pos_sent.csv')\n",
    "pos['BIO_1']=p"
   ]
  },
  {
   "cell_type": "code",
   "execution_count": null,
   "id": "breeding-seattle",
   "metadata": {},
   "outputs": [],
   "source": [
    "type_ls = ['-p', '-n']\n",
    "def get_entity_spans(idx, ls):\n",
    "    # given a sequence of BIO taggs, get the list of tuples representing spans of entities\n",
    "    spans = [[],[]]\n",
    "    for t in range(2):\n",
    "        st, ed = 0, 0\n",
    "        for i in range(len(ls)):\n",
    "            #st, ed = 0, 0\n",
    "            if ls[i] == 'B' + type_ls[t]:\n",
    "                st, ed = i, i + 1\n",
    "                for j in range(i+1, len(ls)):\n",
    "                    if ls[j] == 'I' + type_ls[t]:\n",
    "                        ed += 1\n",
    "                    else:\n",
    "                        break\n",
    "                phrase=' '.join(pos.loc[idx,'text'].split(' ')[st:ed])\n",
    "                tup=(phrase, (st, ed))\n",
    "                spans[t].append(tup)\n",
    "    spans[0] = sorted(spans[0], key=lambda x: x[0])\n",
    "    spans[0] = sorted(spans[1], key=lambda x: x[0])\n",
    "    return spans"
   ]
  },
  {
   "cell_type": "code",
   "execution_count": null,
   "id": "turned-cleveland",
   "metadata": {},
   "outputs": [],
   "source": [
    "def get_entity_spans(k, ls):\n",
    "    spans = [[],[]]\n",
    "    for i in range(len(ls)):\n",
    "        if ls[i]=='B-p':\n",
    "            for j in range(i+1,len(ls)):\n",
    "                if ls[j]!='I-p':\n",
    "                    phrase=' '.join(pos.loc[k,'text'].split(' ')[i:j])\n",
    "                    tup=(phrase, (i, j))\n",
    "                    spans[0].append(tup)\n",
    "                    break\n",
    "        elif ls[i]=='B-n':\n",
    "            for j in range(i+1,len(ls)):\n",
    "                if ls[j]!='I-n':\n",
    "                    phrase=' '.join(pos.loc[k,'text'].split(' ')[i:j])\n",
    "                    tup=(phrase, (i, j))\n",
    "                    spans[1].append(tup)\n",
    "                    break\n",
    "    return spans\n",
    "                    "
   ]
  },
  {
   "cell_type": "code",
   "execution_count": null,
   "id": "tender-cornell",
   "metadata": {},
   "outputs": [],
   "source": [
    "all=[]\n",
    "for k in range(len(pred_label)):\n",
    "    all.append(get_entity_spans(k, pred_label[k]))\n",
    "all\n"
   ]
  },
  {
   "cell_type": "code",
   "execution_count": null,
   "id": "maritime-interpretation",
   "metadata": {},
   "outputs": [],
   "source": [
    "dt=pd.read_csv('pos_sent.csv')\n",
    "#dt=dt['labels','text']\n",
    "a=pd.DataFrame(all)\n",
    "a.columns=['predicates', 'subj/obj']\n",
    "a=pd.concat([dt[['labels','text']],a],axis=1)\n",
    "a['triple_A']='[]'\n",
    "a['triple_B']='[]'\n",
    "a['triple_C']='[]'\n",
    "a['triple_D']='[]'\n",
    "a=a.reset_index(drop=True)"
   ]
  },
  {
   "cell_type": "code",
   "execution_count": null,
   "id": "conventional-uncle",
   "metadata": {},
   "outputs": [],
   "source": [
    "a.to_csv('triples.csv',index=False)"
   ]
  },
  {
   "cell_type": "code",
   "execution_count": null,
   "id": "educated-bottom",
   "metadata": {},
   "outputs": [],
   "source": []
  }
 ],
 "metadata": {
  "kernelspec": {
   "display_name": "Python 3",
   "language": "python",
   "name": "python3"
  },
  "language_info": {
   "codemirror_mode": {
    "name": "ipython",
    "version": 3
   },
   "file_extension": ".py",
   "mimetype": "text/x-python",
   "name": "python",
   "nbconvert_exporter": "python",
   "pygments_lexer": "ipython3",
   "version": "3.9.1"
  }
 },
 "nbformat": 4,
 "nbformat_minor": 5
}