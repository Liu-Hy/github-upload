{
 "metadata": {
  "language_info": {
   "codemirror_mode": {
    "name": "ipython",
    "version": 3
   },
   "file_extension": ".py",
   "mimetype": "text/x-python",
   "name": "python",
   "nbconvert_exporter": "python",
   "pygments_lexer": "ipython3",
   "version": 3
  },
  "orig_nbformat": 2
 },
 "nbformat": 4,
 "nbformat_minor": 2,
 "cells": [
  {
   "cell_type": "code",
   "execution_count": null,
   "metadata": {},
   "outputs": [],
   "source": [
    "import logging\n",
    "\n",
    "import pandas as pd\n",
    "import sklearn\n",
    "import random\n",
    "from simpletransformers.classification import (\n",
    "    ClassificationArgs1,\n",
    "    ClassificationModel1,\n",
    ")"
   ]
  },
  {
   "cell_type": "code",
   "execution_count": null,
   "metadata": {},
   "outputs": [],
   "source": [
    "logging.basicConfig(level=logging.INFO)\n",
    "transformers_logger = logging.getLogger(\"transformers\")\n",
    "transformers_logger.setLevel(logging.WARNING)\n",
    "\n",
    "df = pd.read_csv('train_all_sent.csv')\n",
    "df = df.drop(columns=['BIO', 'BIO_1', 'BIO_2', 'labels']).rename(\n",
    "    columns={'bi_labels': 'labels'})\n",
    "df['title'] = df['main_heading'] + ': ' + df['heading']\n",
    "df.loc[((df['main_heading'] == df['heading']) | (\n",
    "    pd.isnull(df['heading']))), 'title'] = df['main_heading']\n",
    "df['title'] = df['title'].fillna('')\n",
    "df['paper'] = df['topic'] + df['paper_idx'].astype(str)\n",
    "ids = df[\"paper\"].unique()\n",
    "random.seed(1)\n",
    "random.shuffle(ids)\n",
    "bound = int(0.9*len(ids))"
   ]
  },
  {
   "cell_type": "code",
   "execution_count": null,
   "metadata": {},
   "outputs": [],
   "source": [
    "train_df = df.set_index(\"paper\").loc[ids[:bound]].reset_index()\n",
    "eval_df = df.set_index(\"paper\").loc[ids[bound:]].reset_index()\n",
    "train_df = train_df.sample(frac=1, random_state=1)\n",
    "\n",
    "# Some sentences are in the 'related work' or 'conclusion' section, and should be masked out.\n",
    "train_df = train_df[train_df['mask'] == 1]\n",
    "eval_df = eval_df[eval_df['mask'] == 1]\n",
    "\n",
    "# downsample the imbalanced training data\n",
    "train_pos = train_df[train_df['labels'] == 1]\n",
    "train_neg = train_df[train_df['labels'] == 0]\n",
    "imbalance_ratio = len(train_neg) / len(train_pos)"
   ]
  },
  {
   "cell_type": "code",
   "execution_count": null,
   "metadata": {},
   "outputs": [],
   "source": [
    "# Create a ClassificationModel\n",
    "model_args = ClassificationArgs1()\n",
    "\n",
    "model_args.downsample = 1.0\n",
    "model_args.normalize_ofs = True\n",
    "model_args.out_learning_rate = 1e-4 #between 5e-5 and 1e-3\n",
    "model_args.scheduler = \"constant_schedule_with_warmup\"\n",
    "model_args.warmup_steps = 200\n",
    "model_args.reprocess_input_data = True\n",
    "model_args.save_model_every_epoch = False\n",
    "model_args.overwrite_output_dir = True\n",
    "model_args.manual_seed = 1\n",
    "model_args.fp16 = False\n",
    "model_args.use_multiprocessing = True\n",
    "model_args.num_train_epochs = 8\n",
    "model_args.train_batch_size = 16\n",
    "model_args.gradient_accumulation_steps = 4\n",
    "model_args.learning_rate = 1e-5\n",
    "model_args.do_lower_case = True\n",
    "\n",
    "# Create a TransformerModel\n",
    "model = ClassificationModel1(\n",
    "    \"bert\",\n",
    "    \"allenai/scibert_scivocab_uncased\",\n",
    "    weight=[1, imbalance_ratio/model_args.downsample],\n",
    "    args=model_args,\n",
    ")"
   ]
  },
  {
   "cell_type": "code",
   "execution_count": null,
   "metadata": {},
   "outputs": [],
   "source": [
    "model.train_model(train_df, eval_df=eval_df,\n",
    "                    F1_score=sklearn.metrics.f1_score)"
   ]
  }
 ]
}