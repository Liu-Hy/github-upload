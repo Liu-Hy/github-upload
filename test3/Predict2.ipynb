{
 "cells": [
  {
   "cell_type": "code",
   "execution_count": null,
   "id": "designing-islam",
   "metadata": {},
   "outputs": [],
   "source": [
    "import os\n",
    "import pandas as pd\n",
    "import pickle\n",
    "from ast import literal_eval\n",
    "import logging\n",
    "import argparse\n",
    "from simpletransformers.ner import (\n",
    "    NERArgs,\n",
    "    NERModel,\n",
    ")"
   ]
  },
  {
   "cell_type": "code",
   "execution_count": null,
   "id": "productive-ethernet",
   "metadata": {},
   "outputs": [],
   "source": [
    "BIO_type = 1\n",
    "\n",
    "labelset = [\"B-p\", \"I-p\", \"B-n\", \"I-n\", \"O\"]\n",
    "type_ls = ['-p', '-n']"
   ]
  },
  {
   "cell_type": "code",
   "execution_count": null,
   "id": "animal-maintenance",
   "metadata": {},
   "outputs": [],
   "source": [
    "logging.basicConfig(level=logging.INFO)\n",
    "transformers_logger = logging.getLogger(\"transformers\")\n",
    "transformers_logger.setLevel(logging.WARNING)\n",
    "\n",
    "pos = pd.read_csv('pos_sent.csv')\n",
    "col_name = pos.columns[6+BIO_type]\n",
    "pos = pos.dropna(axis=0, subset=[col_name])"
   ]
  },
  {
   "cell_type": "code",
   "execution_count": null,
   "id": "oriented-values",
   "metadata": {},
   "outputs": [],
   "source": [
    "data = []\n",
    "for i in range(len(pos)):\n",
    "    words = pos.loc[i, 'text'].split(' ')\n",
    "    tags = literal_eval(pos.iloc[i, 6+BIO_type])\n",
    "    for j in range(len(words)):\n",
    "        data.append([i, words[j], tags[j]])\n",
    "df = pd.DataFrame(data, columns=['sentence_id', 'words', 'labels'])"
   ]
  },
  {
   "cell_type": "code",
   "execution_count": null,
   "id": "representative-plenty",
   "metadata": {},
   "outputs": [],
   "source": [
    "model_args = NERArgs()\n",
    "model_args.reprocess_input_data = True\n",
    "model_args.save_model_every_epoch = False\n",
    "model_args.overwrite_output_dir = True\n",
    "model_args.fp16 = False\n",
    "model_args.manual_seed = 1\n",
    "model_args.use_multiprocessing = True\n",
    "model_args.do_lower_case = False"
   ]
  },
  {
   "cell_type": "code",
   "execution_count": null,
   "id": "superior-planet",
   "metadata": {},
   "outputs": [],
   "source": [
    "def phrase_F1(ref, pred):\n",
    "    return 0\n",
    "\n",
    "# Create a TransformerModel\n",
    "model = NERModel(\n",
    "    \"xlmroberta\",\n",
    "    \"../ner/Noutputs/best_model\",\n",
    "    labels=labelset,\n",
    "    args=model_args,\n",
    ")"
   ]
  },
  {
   "cell_type": "code",
   "execution_count": null,
   "id": "indonesian-batman",
   "metadata": {},
   "outputs": [],
   "source": [
    "result, model_outputs, pred_label = model.eval_model(df, F1_score=phrase_F1)\n",
    "# 'pred_label' is a list, where each element is the list of predicted labels for one sentence"
   ]
  },
  {
   "cell_type": "code",
   "execution_count": null,
   "id": "filled-vector",
   "metadata": {},
   "outputs": [],
   "source": [
    "p=[str(l) for l in pred_label]"
   ]
  },
  {
   "cell_type": "code",
   "execution_count": null,
   "id": "powered-undergraduate",
   "metadata": {},
   "outputs": [],
   "source": [
    "pos = pd.read_csv('pos_sent.csv')\n",
    "pos['BIO_1']=p"
   ]
  },
  {
   "cell_type": "code",
   "execution_count": null,
   "id": "guided-princess",
   "metadata": {},
   "outputs": [],
   "source": [
    "pos"
   ]
  },
  {
   "cell_type": "code",
   "execution_count": null,
   "id": "offensive-masters",
   "metadata": {},
   "outputs": [],
   "source": [
    "pos.to_csv('pos_sent.csv')"
   ]
  },
  {
   "cell_type": "code",
   "execution_count": null,
   "id": "turned-cleveland",
   "metadata": {},
   "outputs": [],
   "source": [
    "def get_entity_spans(k, ls):\n",
    "    spans = [[],[]]\n",
    "    for i in range(len(ls)):\n",
    "        if ls[i]=='B-p':\n",
    "            for j in range(i+1,len(ls)):\n",
    "                if ls[j]!='I-p':\n",
    "                    phrase=' '.join(pos.loc[k,'text'].split(' ')[i:j])\n",
    "                    tup=(phrase, (i, j))\n",
    "                    spans[0].append(tup)\n",
    "                    break\n",
    "                elif j==len(ls)-1:\n",
    "                    phrase=' '.join(pos.loc[k,'text'].split(' ')[i:(j+1)])\n",
    "                    tup=(phrase, (i, (j+1)))\n",
    "                    spans[0].append(tup)\n",
    "        elif ls[i]=='B-n':\n",
    "            for j in range(i+1,len(ls)):\n",
    "                if ls[j]!='I-n':\n",
    "                    phrase=' '.join(pos.loc[k,'text'].split(' ')[i:j])\n",
    "                    tup=(phrase, (i, j))\n",
    "                    spans[1].append(tup)\n",
    "                    break\n",
    "                elif j==len(ls)-1:\n",
    "                    phrase=' '.join(pos.loc[k,'text'].split(' ')[i:(j+1)])\n",
    "                    tup=(phrase, (i, (j+1)))\n",
    "                    spans[1].append(tup)\n",
    "    return spans\n",
    "                    "
   ]
  },
  {
   "cell_type": "code",
   "execution_count": null,
   "id": "maritime-registration",
   "metadata": {},
   "outputs": [],
   "source": [
    "all=[]\n",
    "for k in range(len(pred_label)):\n",
    "    all.append(get_entity_spans(k, pred_label[k]))\n",
    "all"
   ]
  },
  {
   "cell_type": "code",
   "execution_count": null,
   "id": "final-export",
   "metadata": {},
   "outputs": [],
   "source": [
    "all[35:40]"
   ]
  },
  {
   "cell_type": "code",
   "execution_count": null,
   "id": "maritime-interpretation",
   "metadata": {},
   "outputs": [],
   "source": [
    "dt=pd.read_csv('pos_sent.csv')\n",
    "#dt=dt['labels','text']\n",
    "a=pd.DataFrame(all)\n",
    "a.columns=['predicates', 'subj/obj']\n",
    "a=pd.concat([dt[['labels','text']],a],axis=1)\n",
    "a['triple_A']='[]'\n",
    "a['triple_B']='[]'\n",
    "a['triple_C']='[]'\n",
    "a['triple_D']='[]'\n",
    "a=a.reset_index(drop=True)"
   ]
  },
  {
   "cell_type": "code",
   "execution_count": null,
   "id": "conventional-uncle",
   "metadata": {},
   "outputs": [],
   "source": [
    "a.to_csv('triples.csv',index=False)"
   ]
  },
  {
   "cell_type": "code",
   "execution_count": null,
   "id": "educated-bottom",
   "metadata": {},
   "outputs": [],
   "source": []
  }
 ],
 "metadata": {
  "kernelspec": {
   "display_name": "Python 3",
   "language": "python",
   "name": "python3"
  },
  "language_info": {
   "codemirror_mode": {
    "name": "ipython",
    "version": 3
   },
   "file_extension": ".py",
   "mimetype": "text/x-python",
   "name": "python",
   "nbconvert_exporter": "python",
   "pygments_lexer": "ipython3",
   "version": "3.9.1"
  }
 },
 "nbformat": 4,
 "nbformat_minor": 5
}
