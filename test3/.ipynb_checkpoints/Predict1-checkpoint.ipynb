{
 "cells": [
  {
   "cell_type": "code",
   "execution_count": 1,
   "id": "dressed-circuit",
   "metadata": {},
   "outputs": [],
   "source": [
    "# search in the hyperparameter space with W&B sweep\n",
    "import logging\n",
    "\n",
    "import pandas as pd\n",
    "import sklearn\n",
    "import random\n",
    "from simpletransformers.classification import (\n",
    "    ClassificationArgs1,\n",
    "    ClassificationModel1,\n",
    ")\n",
    "\n",
    "logging.basicConfig(level=logging.INFO)\n",
    "transformers_logger = logging.getLogger(\"transformers\")\n",
    "transformers_logger.setLevel(logging.WARNING)\n",
    "\n",
    "df = pd.read_csv('all_sent.csv')\n",
    "df = df.drop(columns=['BIO', 'BIO_1', 'BIO_2', 'labels']).rename(columns={'bi_labels': 'labels'})\n",
    "df['title'] = df['main_heading'] + ': ' + df['heading']\n",
    "df.loc[((df['main_heading'] == df['heading']) | (\n",
    "    pd.isnull(df['heading']))), 'title'] = df['main_heading']\n",
    "df['title'] = df['title'].fillna('')\n",
    "\n",
    "model_args = ClassificationArgs1()\n",
    "\n",
    "model_args.normalize_ofs = True\n",
    "model_args.overwrite_output_dir = True\n",
    "model_args.reprocess_input_data = True\n",
    "model_args.manual_seed = 1\n",
    "model_args.fp16 = False\n",
    "model_args.use_multiprocessing = True\n",
    "model_args.do_lower_case = True  # when using uncased model\n",
    "\n",
    "# Create a TransformerModel\n",
    "model = ClassificationModel1(\n",
    "    \"bert\",\n",
    "    \"../sent/Bcoutputs/best_model\",\n",
    "    args=model_args,\n",
    ")"
   ]
  },
  {
   "cell_type": "code",
   "execution_count": 2,
   "id": "prime-president",
   "metadata": {},
   "outputs": [
    {
     "name": "stderr",
     "output_type": "stream",
     "text": [
      "INFO:simpletransformers.classification.classification_model1: Converting to features started. Cache is not used.\n"
     ]
    },
    {
     "data": {
      "application/vnd.jupyter.widget-view+json": {
       "model_id": "917e7968b0294dcdaa3ea0d6adc9b99f",
       "version_major": 2,
       "version_minor": 0
      },
      "text/plain": [
       "  0%|          | 0/33800 [00:00<?, ?it/s]"
      ]
     },
     "metadata": {},
     "output_type": "display_data"
    },
    {
     "data": {
      "application/vnd.jupyter.widget-view+json": {
       "model_id": "38b651412d5d4a4580c0f01a4a0742d2",
       "version_major": 2,
       "version_minor": 0
      },
      "text/plain": [
       "Running Evaluation:   0%|          | 0/4225 [00:00<?, ?it/s]"
      ]
     },
     "metadata": {},
     "output_type": "display_data"
    },
    {
     "name": "stderr",
     "output_type": "stream",
     "text": [
      "/opt/conda/envs/hl/lib/python3.9/site-packages/sklearn/metrics/_classification.py:870: RuntimeWarning: invalid value encountered in double_scalars\n",
      "  mcc = cov_ytyp / np.sqrt(cov_ytyt * cov_ypyp)\n",
      "INFO:simpletransformers.classification.classification_model1:{'mcc': 0.0, 'tp': 0, 'tn': 30147, 'fp': 3653, 'fn': 0, 'F1_score': 0.0, 'eval_loss': 0.4854330243142856}\n"
     ]
    }
   ],
   "source": [
    "result, model_outputs, wrong_predictions = model.eval_model(df, F1_score=sklearn.metrics.f1_score)"
   ]
  },
  {
   "cell_type": "code",
   "execution_count": 3,
   "id": "spiritual-reply",
   "metadata": {},
   "outputs": [],
   "source": [
    "predictions = model_outputs.argmax(axis=1)\n",
    "# select the sentences that are predicted positive, to be the input for subtask 2\n",
    "mask = df['mask'].values\n",
    "# sentences that are masked out are forced to be negative\n",
    "predictions = predictions * mask\n",
    "pos = df[predictions == 1]\n",
    "pos.to_csv('pos_sent.csv', index=False)"
   ]
  },
  {
   "cell_type": "code",
   "execution_count": null,
   "id": "powerful-doubt",
   "metadata": {},
   "outputs": [],
   "source": []
  }
 ],
 "metadata": {
  "kernelspec": {
   "display_name": "Python 3",
   "language": "python",
   "name": "python3"
  },
  "language_info": {
   "codemirror_mode": {
    "name": "ipython",
    "version": 3
   },
   "file_extension": ".py",
   "mimetype": "text/x-python",
   "name": "python",
   "nbconvert_exporter": "python",
   "pygments_lexer": "ipython3",
   "version": "3.9.1"
  }
 },
 "nbformat": 4,
 "nbformat_minor": 5
}
