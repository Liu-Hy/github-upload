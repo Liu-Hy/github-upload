{
 "cells": [
  {
   "cell_type": "code",
   "execution_count": 1,
   "id": "tested-simpson",
   "metadata": {},
   "outputs": [],
   "source": [
    "import pandas as pd"
   ]
  },
  {
   "cell_type": "code",
   "execution_count": 2,
   "id": "animal-elements",
   "metadata": {},
   "outputs": [],
   "source": [
    "A=pd.read_csv('A.csv')\n",
    "B=pd.read_csv('B.csv')\n",
    "C=pd.read_csv('C.csv')\n",
    "D=pd.read_csv('D.csv')"
   ]
  },
  {
   "cell_type": "code",
   "execution_count": 3,
   "id": "tested-marking",
   "metadata": {},
   "outputs": [],
   "source": [
    "t=pd.read_csv('triples.csv')\n",
    "t=t.reset_index(drop=True)\n",
    "t=t.drop(columns=['triple_A','triple_B','triple_C','triple_D'])\n",
    "t=pd.concat([t,A,B,C,D],axis=1)"
   ]
  },
  {
   "cell_type": "code",
   "execution_count": 4,
   "id": "paperback-drink",
   "metadata": {},
   "outputs": [],
   "source": [
    "pos=pd.read_csv('pos_sent.csv')\n",
    "bu=pos[['topic','paper_idx','idx']]"
   ]
  },
  {
   "cell_type": "code",
   "execution_count": 5,
   "id": "boolean-thickness",
   "metadata": {},
   "outputs": [],
   "source": [
    "t=pd.concat([t,bu],axis=1)"
   ]
  },
  {
   "cell_type": "code",
   "execution_count": 6,
   "id": "municipal-search",
   "metadata": {},
   "outputs": [],
   "source": [
    "t.to_csv('try1.csv')"
   ]
  },
  {
   "cell_type": "code",
   "execution_count": null,
   "id": "conditional-terrorist",
   "metadata": {},
   "outputs": [],
   "source": []
  }
 ],
 "metadata": {
  "kernelspec": {
   "display_name": "Python 3",
   "language": "python",
   "name": "python3"
  },
  "language_info": {
   "codemirror_mode": {
    "name": "ipython",
    "version": 3
   },
   "file_extension": ".py",
   "mimetype": "text/x-python",
   "name": "python",
   "nbconvert_exporter": "python",
   "pygments_lexer": "ipython3",
   "version": "3.9.1"
  }
 },
 "nbformat": 4,
 "nbformat_minor": 5
}
