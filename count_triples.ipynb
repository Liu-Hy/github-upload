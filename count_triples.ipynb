{
 "metadata": {
  "language_info": {
   "codemirror_mode": {
    "name": "ipython",
    "version": 3
   },
   "file_extension": ".py",
   "mimetype": "text/x-python",
   "name": "python",
   "nbconvert_exporter": "python",
   "pygments_lexer": "ipython3",
   "version": "3.8.5-final"
  },
  "orig_nbformat": 2,
  "kernelspec": {
   "name": "python3",
   "display_name": "Python 3"
  }
 },
 "nbformat": 4,
 "nbformat_minor": 2,
 "cells": [
  {
   "cell_type": "code",
   "execution_count": 1,
   "metadata": {},
   "outputs": [],
   "source": [
    "import pandas as pd"
   ]
  },
  {
   "cell_type": "code",
   "execution_count": 2,
   "metadata": {},
   "outputs": [
    {
     "output_type": "execute_result",
     "data": {
      "text/plain": [
       "          info_unit                                               text  \\\n",
       "0  research-problem  Learning Phrase Representations using RNN Enco...   \n",
       "1  research-problem  Along this line of research on using neural ne...   \n",
       "2             model  The proposed neural network architecture , whi...   \n",
       "3             model  The encoder maps a variable - length source se...   \n",
       "4             model  The two networks are trained jointly to maximi...   \n",
       "\n",
       "                                             phrases  \\\n",
       "0                    Statistical Machine Translation   \n",
       "1                            SMT\\nphrase - based SMT   \n",
       "2  neural network architecture\\nrefer to as\\nRNN ...   \n",
       "3  maps\\na variable - length source sequence to a...   \n",
       "4  trained\\njointly\\nto maximize\\nconditional pro...   \n",
       "\n",
       "                                            triple_A triple_B triple_C  \\\n",
       "0                                                NaN      NaN      NaN   \n",
       "1                                                NaN      NaN      NaN   \n",
       "2  neural network architecture||refer to as||RNN ...      NaN      NaN   \n",
       "3                                                NaN      NaN      NaN   \n",
       "4  jointly||to maximize||conditional probability\\...      NaN      NaN   \n",
       "\n",
       "                                    triple_D  \\\n",
       "0                                        NaN   \n",
       "1                                        NaN   \n",
       "2  Model||has||neural network architecture\\n   \n",
       "3                                        NaN   \n",
       "4                                        NaN   \n",
       "\n",
       "                                            triple_E  \\\n",
       "0  Contribution||has research problem||Statistica...   \n",
       "1  Contribution||has research problem||SMT\\nContr...   \n",
       "2                                                NaN   \n",
       "3                                                NaN   \n",
       "4                                                NaN   \n",
       "\n",
       "                                              SPEC_1  \\\n",
       "0                                                NaN   \n",
       "1                                                NaN   \n",
       "2                                                NaN   \n",
       "3  encoder||maps||a variable - length source sequ...   \n",
       "4  two recurrent neural networks ( RNN )||trained...   \n",
       "\n",
       "                                            SPEC_1.1 SPEC_2 SPEC_3  \n",
       "0                                                NaN    NaN    NaN  \n",
       "1                                                NaN    NaN    NaN  \n",
       "2                                                NaN    NaN    NaN  \n",
       "3  encoder||maps||a variable - length source sequ...    NaN    NaN  \n",
       "4  two recurrent neural networks ( RNN )||trained...    NaN    NaN  "
      ],
      "text/html": "<div>\n<style scoped>\n    .dataframe tbody tr th:only-of-type {\n        vertical-align: middle;\n    }\n\n    .dataframe tbody tr th {\n        vertical-align: top;\n    }\n\n    .dataframe thead th {\n        text-align: right;\n    }\n</style>\n<table border=\"1\" class=\"dataframe\">\n  <thead>\n    <tr style=\"text-align: right;\">\n      <th></th>\n      <th>info_unit</th>\n      <th>text</th>\n      <th>phrases</th>\n      <th>triple_A</th>\n      <th>triple_B</th>\n      <th>triple_C</th>\n      <th>triple_D</th>\n      <th>triple_E</th>\n      <th>SPEC_1</th>\n      <th>SPEC_1.1</th>\n      <th>SPEC_2</th>\n      <th>SPEC_3</th>\n    </tr>\n  </thead>\n  <tbody>\n    <tr>\n      <th>0</th>\n      <td>research-problem</td>\n      <td>Learning Phrase Representations using RNN Enco...</td>\n      <td>Statistical Machine Translation</td>\n      <td>NaN</td>\n      <td>NaN</td>\n      <td>NaN</td>\n      <td>NaN</td>\n      <td>Contribution||has research problem||Statistica...</td>\n      <td>NaN</td>\n      <td>NaN</td>\n      <td>NaN</td>\n      <td>NaN</td>\n    </tr>\n    <tr>\n      <th>1</th>\n      <td>research-problem</td>\n      <td>Along this line of research on using neural ne...</td>\n      <td>SMT\\nphrase - based SMT</td>\n      <td>NaN</td>\n      <td>NaN</td>\n      <td>NaN</td>\n      <td>NaN</td>\n      <td>Contribution||has research problem||SMT\\nContr...</td>\n      <td>NaN</td>\n      <td>NaN</td>\n      <td>NaN</td>\n      <td>NaN</td>\n    </tr>\n    <tr>\n      <th>2</th>\n      <td>model</td>\n      <td>The proposed neural network architecture , whi...</td>\n      <td>neural network architecture\\nrefer to as\\nRNN ...</td>\n      <td>neural network architecture||refer to as||RNN ...</td>\n      <td>NaN</td>\n      <td>NaN</td>\n      <td>Model||has||neural network architecture\\n</td>\n      <td>NaN</td>\n      <td>NaN</td>\n      <td>NaN</td>\n      <td>NaN</td>\n      <td>NaN</td>\n    </tr>\n    <tr>\n      <th>3</th>\n      <td>model</td>\n      <td>The encoder maps a variable - length source se...</td>\n      <td>maps\\na variable - length source sequence to a...</td>\n      <td>NaN</td>\n      <td>NaN</td>\n      <td>NaN</td>\n      <td>NaN</td>\n      <td>NaN</td>\n      <td>encoder||maps||a variable - length source sequ...</td>\n      <td>encoder||maps||a variable - length source sequ...</td>\n      <td>NaN</td>\n      <td>NaN</td>\n    </tr>\n    <tr>\n      <th>4</th>\n      <td>model</td>\n      <td>The two networks are trained jointly to maximi...</td>\n      <td>trained\\njointly\\nto maximize\\nconditional pro...</td>\n      <td>jointly||to maximize||conditional probability\\...</td>\n      <td>NaN</td>\n      <td>NaN</td>\n      <td>NaN</td>\n      <td>NaN</td>\n      <td>two recurrent neural networks ( RNN )||trained...</td>\n      <td>two recurrent neural networks ( RNN )||trained...</td>\n      <td>NaN</td>\n      <td>NaN</td>\n    </tr>\n  </tbody>\n</table>\n</div>"
     },
     "metadata": {},
     "execution_count": 2
    }
   ],
   "source": [
    "df = pd.read_csv('./interim/triples.csv')\n",
    "df.head()"
   ]
  },
  {
   "cell_type": "code",
   "execution_count": 3,
   "metadata": {},
   "outputs": [
    {
     "output_type": "execute_result",
     "data": {
      "text/plain": [
       "[12268, 1436, 2030, 1952, 836, 972, 972, 52, 501]"
      ]
     },
     "metadata": {},
     "execution_count": 3
    }
   ],
   "source": [
    "count = [0]*9\n",
    "for i in range(len(df)):\n",
    "    for j in range(9):\n",
    "        if not pd.isna(df.iloc[i, j+3]):\n",
    "            count[j] += len(df.iloc[i, j+3].split('\\n'))-1\n",
    "count"
   ]
  },
  {
   "cell_type": "code",
   "execution_count": 4,
   "metadata": {},
   "outputs": [
    {
     "output_type": "execute_result",
     "data": {
      "text/plain": [
       "21019"
      ]
     },
     "metadata": {},
     "execution_count": 4
    }
   ],
   "source": [
    "'''\n",
    "There are 21471 annotated triples altogether\n",
    "Among them, there are 1108 triples for which none of the phrases can be found in any sentence\n",
    "They have to be counted separately\n",
    "'''\n",
    "sum(count)\n",
    "# assert sum(count) + 1108 == 21471"
   ]
  },
  {
   "cell_type": "code",
   "execution_count": null,
   "metadata": {},
   "outputs": [],
   "source": []
  }
 ]
}